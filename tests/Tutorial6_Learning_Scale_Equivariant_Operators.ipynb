{
 "cells": [
  {
   "cell_type": "code",
   "execution_count": null,
   "id": "5aOcWD-9zyD3",
   "metadata": {
    "colab": {
     "base_uri": "https://localhost:8080/"
    },
    "id": "5aOcWD-9zyD3",
    "outputId": "7413d0e0-db21-4036-a05c-f4c870f2affe"
   },
   "outputs": [],
   "source": [
    "!git clone https://github.com/Jacobiano/morpholayers.git"
   ]
  },
  {
   "cell_type": "code",
   "execution_count": null,
   "id": "F8MKKQ5eA9Yq",
   "metadata": {
    "colab": {
     "base_uri": "https://localhost:8080/"
    },
    "id": "F8MKKQ5eA9Yq",
    "outputId": "f2539ceb-3833-4a9c-90f3-24b1b595d472"
   },
   "outputs": [],
   "source": [
    "!wget -cO - \"https://drive.google.com/uc?export=download&id=14AFm92AM5I-oYm9S85AFxzzxM-oOiRK1\" > scaleEquivariantTutorialData.tar.gz\n",
    "!tar -xzf scaleEquivariantTutorialData.tar.gz\n",
    "!ls"
   ]
  },
  {
   "cell_type": "code",
   "execution_count": null,
   "id": "e0VcsEaABIG_",
   "metadata": {
    "colab": {
     "base_uri": "https://localhost:8080/"
    },
    "id": "e0VcsEaABIG_",
    "outputId": "b3bd5bf8-b7a0-4ee4-e233-f15ad3cddbf0"
   },
   "outputs": [],
   "source": [
    "!pip install scikit-image==0.18"
   ]
  },
  {
   "cell_type": "code",
   "execution_count": null,
   "id": "ec380218-9fcb-4758-a441-37d62d613167",
   "metadata": {
    "colab": {
     "base_uri": "https://localhost:8080/",
     "height": 34
    },
    "id": "ec380218-9fcb-4758-a441-37d62d613167",
    "outputId": "480346f2-1c77-4138-ef81-3912d88a6f87"
   },
   "outputs": [],
   "source": [
    "import tensorflow as tf\n",
    "import numpy as np\n",
    "\n",
    "from morpholayers.layers import QuadraticDilation2D\n",
    "\n",
    "from tensorflow.keras import layers\n",
    "from tensorflow.keras.models import Model\n",
    "from tensorflow.keras.constraints import Constraint\n",
    "from tensorflow.keras.initializers import Initializer\n",
    "\n",
    "import matplotlib.pyplot as plt\n",
    "\n",
    "plt.gray()"
   ]
  },
  {
   "cell_type": "code",
   "execution_count": null,
   "id": "NOdpGFKkBG_J",
   "metadata": {
    "id": "NOdpGFKkBG_J"
   },
   "outputs": [],
   "source": []
  },
  {
   "cell_type": "code",
   "execution_count": null,
   "id": "EQLCngBrA_es",
   "metadata": {
    "id": "EQLCngBrA_es"
   },
   "outputs": [],
   "source": [
    "import skimage"
   ]
  },
  {
   "cell_type": "code",
   "execution_count": null,
   "id": "QzIFu5xPA_lg",
   "metadata": {
    "colab": {
     "base_uri": "https://localhost:8080/",
     "height": 35
    },
    "id": "QzIFu5xPA_lg",
    "outputId": "13df1155-6f48-4304-caa9-0c1dd8947b45"
   },
   "outputs": [],
   "source": [
    "skimage.__version__"
   ]
  },
  {
   "cell_type": "code",
   "execution_count": null,
   "id": "hUUcy09dB4xr",
   "metadata": {
    "id": "hUUcy09dB4xr"
   },
   "outputs": [],
   "source": [
    "from skimage import data\n",
    "from skimage.color import rgb2gray"
   ]
  },
  {
   "cell_type": "code",
   "execution_count": null,
   "id": "81cc1cc3-d9b4-4f71-907b-129784630a91",
   "metadata": {
    "colab": {
     "base_uri": "https://localhost:8080/",
     "height": 286
    },
    "id": "81cc1cc3-d9b4-4f71-907b-129784630a91",
    "outputId": "e3578ddd-867c-4a18-e72f-4ecd5d950b7d"
   },
   "outputs": [],
   "source": [
    "im = rgb2gray(data.cat())\n",
    "plt.imshow(im)"
   ]
  },
  {
   "cell_type": "code",
   "execution_count": null,
   "id": "2500dd7f-5289-44d2-8aee-c56d5c5c7b3f",
   "metadata": {
    "id": "2500dd7f-5289-44d2-8aee-c56d5c5c7b3f"
   },
   "outputs": [],
   "source": [
    "# define a simple quadratic dilation layer\n",
    "inputs = layers.Input([None, None, 1])\n",
    "quad_dilation_layer = QuadraticDilation2D(num_filters=1, kernel_size=[63, 63])\n",
    "x = quad_dilation_layer(inputs)\n",
    "quad_dilation = Model(inputs, x)"
   ]
  },
  {
   "cell_type": "code",
   "execution_count": null,
   "id": "3b4aa292-bcc7-4c0c-ad44-ef5630bef05e",
   "metadata": {
    "colab": {
     "base_uri": "https://localhost:8080/",
     "height": 285
    },
    "id": "3b4aa292-bcc7-4c0c-ad44-ef5630bef05e",
    "outputId": "1ee99a98-c895-4490-d362-55a7d6874e93"
   },
   "outputs": [],
   "source": [
    "# show the parabolic structuring element\n",
    "plt.imshow(quad_dilation_layer.data[:, :, 0, 0])"
   ]
  },
  {
   "cell_type": "code",
   "execution_count": null,
   "id": "a6df0c58-d13a-4799-88a6-b698ef83a7ba",
   "metadata": {
    "id": "a6df0c58-d13a-4799-88a6-b698ef83a7ba"
   },
   "outputs": [],
   "source": [
    "im_out = quad_dilation(im[np.newaxis, :, :, np.newaxis])[0, :, :, 0]"
   ]
  },
  {
   "cell_type": "code",
   "execution_count": null,
   "id": "13f12abf-fe18-48b8-8ae7-08621c8c1495",
   "metadata": {
    "colab": {
     "base_uri": "https://localhost:8080/",
     "height": 538
    },
    "id": "13f12abf-fe18-48b8-8ae7-08621c8c1495",
    "outputId": "18626579-0ff7-4f43-81ae-d0c697418eef"
   },
   "outputs": [],
   "source": [
    "plt.figure()\n",
    "plt.imshow(im_out)\n",
    "plt.figure()\n",
    "plt.imshow(im_out - im)"
   ]
  },
  {
   "cell_type": "code",
   "execution_count": null,
   "id": "20e26add-29dc-47e1-ac7d-38237e35836d",
   "metadata": {
    "id": "20e26add-29dc-47e1-ac7d-38237e35836d"
   },
   "outputs": [],
   "source": [
    "class ScaleConsistency(Constraint):\n",
    "    def __init__(self, scales, vmax=2.0, vmin=0.5, **kwargs):\n",
    "        super().__init__(**kwargs)\n",
    "        self.scales = tf.constant(scales)[tf.newaxis, :]\n",
    "        self.vmin = vmin\n",
    "        self.vmax = vmax\n",
    "\n",
    "    def call(self, b):\n",
    "        bmean = tf.reduce_mean(b * self.scales**2, 1, keepdims=True)\n",
    "        bmean = tf.clip_by_value(bmean, vmin, vmax)\n",
    "        b = bmean / self.scales**2\n",
    "        return b"
   ]
  },
  {
   "cell_type": "code",
   "execution_count": null,
   "id": "140b4dc6-a71e-4b0f-a462-bc43d143e8cd",
   "metadata": {
    "id": "140b4dc6-a71e-4b0f-a462-bc43d143e8cd"
   },
   "outputs": [],
   "source": [
    "class ScaleInitializer(Initializer):\n",
    "    def __init__(self, scales, **kwargs):\n",
    "        super().__init__(**kwargs)\n",
    "        self.scales = tf.constant(scales[tf.newaxis, :])\n",
    "\n",
    "    def __call__(self, shape, dtype=None):\n",
    "        return tf.ones(shape) / self.scales**2"
   ]
  },
  {
   "cell_type": "code",
   "execution_count": null,
   "id": "127df8a0-c5e6-45ad-b2f9-652ac424daf1",
   "metadata": {
    "id": "127df8a0-c5e6-45ad-b2f9-652ac424daf1"
   },
   "outputs": [],
   "source": [
    "n_scales = 4\n",
    "zero_scale = 0.75\n",
    "scales = zero_scale * (2 ** np.arange(n_scales))\n",
    "scales = scales.astype(np.float32)\n",
    "S = scales.max()"
   ]
  },
  {
   "cell_type": "code",
   "execution_count": null,
   "id": "f9c41dbe-aa63-4c70-9f59-5fe6ddcc0a06",
   "metadata": {
    "id": "f9c41dbe-aa63-4c70-9f59-5fe6ddcc0a06"
   },
   "outputs": [],
   "source": [
    "# define a lifting layer, which maps inputs to a functions on a set of scalings and trasnlations\n",
    "inputs = layers.Input([None, None, 1])\n",
    "qd_layer = QuadraticDilation2D(\n",
    "    num_filters=n_scales,\n",
    "    kernel_size=[int(4 * S), int(4 * S)],\n",
    "    scale=zero_scale,\n",
    "    bias_initializer=ScaleInitializer(scales),\n",
    "    bias_constraint=ScaleConsistency(scales),\n",
    ")\n",
    "x = qd_layer(inputs)\n",
    "x = layers.Lambda(lambda v: tf.transpose(v[:, :, :, tf.newaxis, :], (0, 1, 2, 4, 3)))(x)\n",
    "lifting = Model(inputs, x, name=\"lifting\")"
   ]
  },
  {
   "cell_type": "code",
   "execution_count": null,
   "id": "2599a8bd-61d7-4983-86b9-02229c7a8573",
   "metadata": {
    "colab": {
     "base_uri": "https://localhost:8080/"
    },
    "id": "2599a8bd-61d7-4983-86b9-02229c7a8573",
    "outputId": "f4f81869-6a2e-4e58-c6b3-e0a272e11b71"
   },
   "outputs": [],
   "source": [
    "print(qd_layer.bias)"
   ]
  },
  {
   "cell_type": "code",
   "execution_count": null,
   "id": "18e73f01-59f8-4ffd-a84b-2c2a4c9d6714",
   "metadata": {
    "colab": {
     "base_uri": "https://localhost:8080/"
    },
    "id": "18e73f01-59f8-4ffd-a84b-2c2a4c9d6714",
    "outputId": "c4ce7c38-5406-43fe-9745-2bdf8ceae689"
   },
   "outputs": [],
   "source": [
    "lifting.summary()"
   ]
  },
  {
   "cell_type": "code",
   "execution_count": null,
   "id": "a4bfd7e6-0e04-48ab-9741-1a37e7b60c82",
   "metadata": {
    "id": "a4bfd7e6-0e04-48ab-9741-1a37e7b60c82"
   },
   "outputs": [],
   "source": [
    "im = np.zeros([31, 31], dtype=np.float32)\n",
    "im[15, 15] = 1.0"
   ]
  },
  {
   "cell_type": "code",
   "execution_count": null,
   "id": "115f8487-2591-4a63-8ba4-d5fe04dd1e88",
   "metadata": {
    "id": "115f8487-2591-4a63-8ba4-d5fe04dd1e88"
   },
   "outputs": [],
   "source": [
    "im_lifted = lifting(im[np.newaxis, :, :, np.newaxis])"
   ]
  },
  {
   "cell_type": "code",
   "execution_count": null,
   "id": "84f29d91-60b2-4fd4-ae13-58889e46c533",
   "metadata": {
    "colab": {
     "base_uri": "https://localhost:8080/",
     "height": 109
    },
    "id": "84f29d91-60b2-4fd4-ae13-58889e46c533",
    "outputId": "e17a01f4-b518-43ea-cfda-587a20c5781f"
   },
   "outputs": [],
   "source": [
    "# show the different scales of the lifting\n",
    "plt.figure()\n",
    "plt.subplot(1, 5, 1)\n",
    "plt.imshow(im)\n",
    "for i in range(n_scales):\n",
    "    plt.subplot(1, 5, i + 2)\n",
    "    plt.imshow(im_lifted[0, :, :, i, 0], vmin=0.0, vmax=1.0)"
   ]
  },
  {
   "cell_type": "code",
   "execution_count": null,
   "id": "ef9aa459-8041-4a3b-94b3-762d2a090522",
   "metadata": {
    "colab": {
     "base_uri": "https://localhost:8080/"
    },
    "id": "ef9aa459-8041-4a3b-94b3-762d2a090522",
    "outputId": "be5275ee-b923-49a0-bda8-8ac406e855b3"
   },
   "outputs": [],
   "source": [
    "(x_train, y_train), (x_val, y_val) = tf.keras.datasets.mnist.load_data()"
   ]
  },
  {
   "cell_type": "code",
   "execution_count": null,
   "id": "21fd52f2-9cb7-4de0-87a1-1bed498c0c7d",
   "metadata": {
    "id": "21fd52f2-9cb7-4de0-87a1-1bed498c0c7d"
   },
   "outputs": [],
   "source": [
    "x_train = x_train.astype(np.float32) / 255\n",
    "x_val = x_val.astype(np.float32) / 255"
   ]
  },
  {
   "cell_type": "code",
   "execution_count": null,
   "id": "eaa5fad9-5baf-4144-98d1-b6050f2cff59",
   "metadata": {
    "id": "eaa5fad9-5baf-4144-98d1-b6050f2cff59"
   },
   "outputs": [],
   "source": [
    "from scale_crosscorrelation import *"
   ]
  },
  {
   "cell_type": "code",
   "execution_count": null,
   "id": "606f80a7-d455-44e4-a0ba-b85b22107415",
   "metadata": {
    "colab": {
     "base_uri": "https://localhost:8080/"
    },
    "id": "606f80a7-d455-44e4-a0ba-b85b22107415",
    "outputId": "c9dcb595-cbaa-4337-e578-fe538ce0a51a"
   },
   "outputs": [],
   "source": [
    "inputs = layers.Input((None, None, 1))\n",
    "x = lifting(inputs)\n",
    "\n",
    "x = ScaleConv(16, (3, 3, 1), n_scales)(x)\n",
    "x = layers.BatchNormalization()(x)\n",
    "x = layers.Activation(\"relu\")(x)\n",
    "x = ScaleConv(32, (3, 3, 1), n_scales)(x)\n",
    "x = layers.BatchNormalization()(x)\n",
    "x = layers.Activation(\"relu\")(x)\n",
    "\n",
    "x = layers.GlobalMaxPooling3D()(x)\n",
    "x = layers.Dense(10)(x)\n",
    "\n",
    "model_invariant = Model(inputs, x)\n",
    "model_invariant.summary()\n",
    "\n",
    "model_invariant.compile(\n",
    "    loss=tf.keras.losses.SparseCategoricalCrossentropy(from_logits=True),\n",
    "    optimizer=tf.keras.optimizers.Adam(1e-2),\n",
    "    metrics=[\"accuracy\"],\n",
    ")"
   ]
  },
  {
   "cell_type": "code",
   "execution_count": null,
   "id": "2808743d-88b1-43d3-a030-371d540de12b",
   "metadata": {
    "id": "2808743d-88b1-43d3-a030-371d540de12b"
   },
   "outputs": [],
   "source": [
    "# model_invariant.fit(x_train, y_train, epochs=10, batch_size=32, validation_data=(x_val, y_val), verbose=1)"
   ]
  },
  {
   "cell_type": "code",
   "execution_count": null,
   "id": "b3697f44-59d0-4ac2-badc-3417b6e9ad39",
   "metadata": {
    "id": "b3697f44-59d0-4ac2-badc-3417b6e9ad39"
   },
   "outputs": [],
   "source": [
    "# model_invariant.save('scaleEquivariantExample_invariantModel')"
   ]
  },
  {
   "cell_type": "code",
   "execution_count": null,
   "id": "0daf9d2d-c05b-4198-988b-2f87ce563c9f",
   "metadata": {
    "colab": {
     "base_uri": "https://localhost:8080/"
    },
    "id": "0daf9d2d-c05b-4198-988b-2f87ce563c9f",
    "outputId": "3b9f4d15-5051-4aee-f8ea-2f805d5160b2"
   },
   "outputs": [],
   "source": [
    "model_invariant = tf.keras.models.load_model(\"scaleEquivariantExample_invariantModel\")"
   ]
  },
  {
   "cell_type": "code",
   "execution_count": null,
   "id": "fff0d637-c992-4089-afdd-c82bf0986322",
   "metadata": {
    "id": "fff0d637-c992-4089-afdd-c82bf0986322"
   },
   "outputs": [],
   "source": [
    "from skimage.transform import rescale"
   ]
  },
  {
   "cell_type": "code",
   "execution_count": null,
   "id": "e99552e7-5d89-448c-83a1-a3cd0e6118e9",
   "metadata": {
    "id": "e99552e7-5d89-448c-83a1-a3cd0e6118e9"
   },
   "outputs": [],
   "source": [
    "# create a new test set in a bigger scale\n",
    "x_test = np.stack([rescale(x_val[i, ...], 2) for i in range(x_val.shape[0])], 0)\n",
    "y_test = y_val"
   ]
  },
  {
   "cell_type": "code",
   "execution_count": null,
   "id": "bff5c4e0-4cab-43b2-9a01-dad9a3f8922c",
   "metadata": {
    "id": "bff5c4e0-4cab-43b2-9a01-dad9a3f8922c"
   },
   "outputs": [],
   "source": [
    "# create a new test set in a bigger scale\n",
    "x_test2 = np.stack([rescale(x_val[i, ...], 1 / 2) for i in range(x_val.shape[0])], 0)\n",
    "y_test2 = y_val"
   ]
  },
  {
   "cell_type": "code",
   "execution_count": null,
   "id": "f5103826-7d87-4b96-ab27-286985b76da4",
   "metadata": {
    "colab": {
     "base_uri": "https://localhost:8080/",
     "height": 826
    },
    "id": "f5103826-7d87-4b96-ab27-286985b76da4",
    "outputId": "1a09a171-043b-45de-d412-d10b575522f0"
   },
   "outputs": [],
   "source": [
    "plt.figure()\n",
    "plt.imshow(x_val[0, ...])\n",
    "plt.title(\"image from the original test set\")\n",
    "plt.figure()\n",
    "plt.imshow(x_test[0, ...])\n",
    "plt.title(\"image from the test set with 2x zoom in\")\n",
    "plt.figure()\n",
    "plt.imshow(x_test2[0, ...])\n",
    "plt.title(\"image from the test set with 2x zoom out\")"
   ]
  },
  {
   "cell_type": "code",
   "execution_count": null,
   "id": "lw0LH3W5MELu",
   "metadata": {
    "colab": {
     "base_uri": "https://localhost:8080/"
    },
    "id": "lw0LH3W5MELu",
    "outputId": "eea09370-477e-4820-fb16-e060ef5bac8d"
   },
   "outputs": [],
   "source": [
    "model_invariant.evaluate(x_val, y_test)"
   ]
  },
  {
   "cell_type": "code",
   "execution_count": null,
   "id": "21253d62-2741-4477-9639-55258d19d683",
   "metadata": {
    "colab": {
     "base_uri": "https://localhost:8080/"
    },
    "id": "21253d62-2741-4477-9639-55258d19d683",
    "outputId": "1fbbcc11-e35d-4598-d41d-d9454b27bb50"
   },
   "outputs": [],
   "source": [
    "print(\"testing the equivariant model in the 2x zoomed in test set\")\n",
    "model_invariant.evaluate(x_test, y_test)\n",
    "print(\"testing the equivariant model in the 2x zoomed out test set\")\n",
    "model_invariant.evaluate(x_test2, y_test)"
   ]
  },
  {
   "cell_type": "code",
   "execution_count": null,
   "id": "75684b69-c6db-4bd4-a78c-ba56a725c6a9",
   "metadata": {
    "colab": {
     "base_uri": "https://localhost:8080/"
    },
    "id": "75684b69-c6db-4bd4-a78c-ba56a725c6a9",
    "outputId": "20649005-132c-4745-e9ca-f49d0f5d3504"
   },
   "outputs": [],
   "source": [
    "inputs = layers.Input((None, None, 1))\n",
    "\n",
    "x = layers.Conv2D(16, 3, padding=\"same\")(inputs)\n",
    "x = layers.BatchNormalization()(x)\n",
    "x = layers.Activation(\"relu\")(x)\n",
    "x = layers.Conv2D(32, 3, padding=\"same\")(x)\n",
    "x = layers.BatchNormalization()(x)\n",
    "x = layers.Activation(\"relu\")(x)\n",
    "\n",
    "x = layers.GlobalMaxPooling2D()(x)\n",
    "x = layers.Dense(10)(x)\n",
    "\n",
    "model_noninvariant = Model(inputs, x)\n",
    "model_noninvariant.summary()\n",
    "\n",
    "model_noninvariant.compile(\n",
    "    loss=tf.keras.losses.SparseCategoricalCrossentropy(from_logits=True),\n",
    "    optimizer=tf.keras.optimizers.Adam(1e-2),\n",
    "    metrics=[\"accuracy\"],\n",
    ")"
   ]
  },
  {
   "cell_type": "code",
   "execution_count": null,
   "id": "898deace-bd56-451b-b88a-1dcc882ab872",
   "metadata": {
    "colab": {
     "base_uri": "https://localhost:8080/"
    },
    "id": "898deace-bd56-451b-b88a-1dcc882ab872",
    "outputId": "856d2e82-9cf0-4076-aeab-411484ddb51f"
   },
   "outputs": [],
   "source": [
    "model_noninvariant = tf.keras.models.load_model(\"scaleEquivariantExample_baselineModel\")"
   ]
  },
  {
   "cell_type": "code",
   "execution_count": null,
   "id": "1c48fbe7-dc0c-4832-bea4-3cdcd0bae2a5",
   "metadata": {
    "id": "1c48fbe7-dc0c-4832-bea4-3cdcd0bae2a5"
   },
   "outputs": [],
   "source": [
    "# model_noninvariant.fit(x_train, y_train, epochs=15, batch_size=64, validation_data=(x_val, y_val), verbose=1)"
   ]
  },
  {
   "cell_type": "code",
   "execution_count": null,
   "id": "cf99cc46-7bb7-4b92-9b07-9e474a0d170c",
   "metadata": {
    "id": "cf99cc46-7bb7-4b92-9b07-9e474a0d170c"
   },
   "outputs": [],
   "source": [
    "# model_noninvariant.save('scaleEquivariantExample_baselineModel')"
   ]
  },
  {
   "cell_type": "code",
   "execution_count": null,
   "id": "MjcfjI1KMRwh",
   "metadata": {
    "colab": {
     "base_uri": "https://localhost:8080/"
    },
    "id": "MjcfjI1KMRwh",
    "outputId": "2cd635f4-4c35-4c91-925b-7194a2e46b94"
   },
   "outputs": [],
   "source": [
    "model_noninvariant.evaluate(x_val, y_val)"
   ]
  },
  {
   "cell_type": "code",
   "execution_count": null,
   "id": "829c1883-caac-43e1-99b8-6679b861c58e",
   "metadata": {
    "colab": {
     "base_uri": "https://localhost:8080/"
    },
    "id": "829c1883-caac-43e1-99b8-6679b861c58e",
    "outputId": "a81c3d7e-a74f-41e3-9f1f-cf56145d738b"
   },
   "outputs": [],
   "source": [
    "print(\"testing non-equivariant model in the 2x zoomed in test set\")\n",
    "model_noninvariant.evaluate(x_test, y_val)\n",
    "print(\"testing the non-equivariant model in the 2x zoomed out test set\")\n",
    "model_noninvariant.evaluate(x_test2, y_val)"
   ]
  },
  {
   "cell_type": "code",
   "execution_count": null,
   "id": "00dfe6dd-d615-4991-9f99-a261617dcbb5",
   "metadata": {
    "colab": {
     "base_uri": "https://localhost:8080/"
    },
    "id": "00dfe6dd-d615-4991-9f99-a261617dcbb5",
    "outputId": "af50a816-aa7a-4dd4-ae20-7e37b95a46dd"
   },
   "outputs": [],
   "source": [
    "print(model_invariant.layers[1].weights)"
   ]
  },
  {
   "cell_type": "code",
   "execution_count": null,
   "id": "sIOBsOmMCVgU",
   "metadata": {
    "id": "sIOBsOmMCVgU"
   },
   "outputs": [],
   "source": []
  }
 ],
 "metadata": {
  "accelerator": "GPU",
  "colab": {
   "provenance": []
  },
  "kernelspec": {
   "display_name": "Python 3 (ipykernel)",
   "language": "python",
   "name": "python3"
  },
  "language_info": {
   "codemirror_mode": {
    "name": "ipython",
    "version": 3
   },
   "file_extension": ".py",
   "mimetype": "text/x-python",
   "name": "python",
   "nbconvert_exporter": "python",
   "pygments_lexer": "ipython3",
   "version": "3.12.7"
  }
 },
 "nbformat": 4,
 "nbformat_minor": 5
}
