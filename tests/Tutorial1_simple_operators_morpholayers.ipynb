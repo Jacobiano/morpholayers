{
 "cells": [
  {
   "cell_type": "code",
   "execution_count": null,
   "id": "993c970f",
   "metadata": {
    "colab": {
     "base_uri": "https://localhost:8080/"
    },
    "id": "993c970f",
    "outputId": "c98caf0b-556d-4f44-a77e-d586154b2a51"
   },
   "outputs": [],
   "source": [
    "!git clone https://github.com/Jacobiano/morpholayers.git"
   ]
  },
  {
   "cell_type": "code",
   "execution_count": null,
   "id": "6f1d41ec",
   "metadata": {
    "id": "6f1d41ec"
   },
   "outputs": [],
   "source": [
    "from imageio import imread\n",
    "from tensorflow.keras.models import Model\n",
    "from tensorflow.keras.layers import Input\n",
    "from matplotlib import pyplot as plt\n",
    "import numpy as np\n",
    "from morpholayers.layers import Dilation2D, Erosion2D, Opening2D, Closing2D\n",
    "from morpholayers.initializers import Quadratic, SEinitializer"
   ]
  },
  {
   "cell_type": "markdown",
   "id": "36eac06f",
   "metadata": {
    "id": "36eac06f"
   },
   "source": [
    "## Images"
   ]
  },
  {
   "cell_type": "code",
   "execution_count": null,
   "id": "72925bcd",
   "metadata": {
    "id": "72925bcd"
   },
   "outputs": [],
   "source": [
    "imCol = imread(\"imageio:chelsea.png\")\n",
    "imCat = imCol[:, :, 0]"
   ]
  },
  {
   "cell_type": "code",
   "execution_count": null,
   "id": "e84306db",
   "metadata": {
    "colab": {
     "base_uri": "https://localhost:8080/",
     "height": 411
    },
    "id": "e84306db",
    "outputId": "e8c7a8ee-e6c2-4285-ef74-25a0b5432c8f"
   },
   "outputs": [],
   "source": [
    "plt.figure(figsize=(15, 7))\n",
    "plt.imshow(imCat, cmap=\"gray\", vmin=0, vmax=255)\n",
    "plt.axis(\"off\")\n",
    "plt.show()"
   ]
  },
  {
   "cell_type": "code",
   "execution_count": null,
   "id": "c73156b4",
   "metadata": {
    "colab": {
     "base_uri": "https://localhost:8080/"
    },
    "id": "c73156b4",
    "outputId": "dcd8771c-0ac1-4215-8fdd-131342a9c37c"
   },
   "outputs": [],
   "source": [
    "from tensorflow.keras.datasets import fashion_mnist\n",
    "\n",
    "(x_train, y_train), (x_test, y_test) = fashion_mnist.load_data()\n",
    "print(x_train.shape)"
   ]
  },
  {
   "cell_type": "code",
   "execution_count": null,
   "id": "d90838f7",
   "metadata": {
    "colab": {
     "base_uri": "https://localhost:8080/",
     "height": 321
    },
    "id": "d90838f7",
    "outputId": "30af8632-8d99-4ef2-f679-8a6fa47275bc"
   },
   "outputs": [],
   "source": [
    "print(\"Examples from the training set:\")\n",
    "nsamp = 5\n",
    "plt.figure(figsize=(30, 5))\n",
    "ridxs = []\n",
    "for i in range(nsamp):\n",
    "    plt.subplot(1, nsamp, i + 1)\n",
    "    randidx = np.random.randint(x_train.shape[0])\n",
    "    ridxs.append(randidx)\n",
    "    plt.imshow(x_train[randidx, :, :], cmap=\"gray\", vmin=0, vmax=255)\n",
    "    plt.axis(\"off\")\n",
    "plt.show()"
   ]
  },
  {
   "cell_type": "code",
   "execution_count": null,
   "id": "a31c7d90",
   "metadata": {
    "colab": {
     "base_uri": "https://localhost:8080/"
    },
    "id": "a31c7d90",
    "outputId": "593dd7ef-e52a-4e9f-b68c-4e627ca88220"
   },
   "outputs": [],
   "source": [
    "Batch = []\n",
    "for i in ridxs:\n",
    "    Batch.append(np.expand_dims(x_train[i, :, :], axis=0))\n",
    "Batch = np.concatenate(Batch, axis=0)\n",
    "print(\"Batch size\", Batch.shape)"
   ]
  },
  {
   "cell_type": "markdown",
   "id": "f65b3e6f",
   "metadata": {
    "id": "f65b3e6f"
   },
   "source": [
    "## Flat operators"
   ]
  },
  {
   "cell_type": "markdown",
   "id": "f88835d7",
   "metadata": {
    "id": "f88835d7"
   },
   "source": [
    "### Square structuring element (7 x 7)"
   ]
  },
  {
   "cell_type": "code",
   "execution_count": null,
   "id": "adc58b58",
   "metadata": {
    "colab": {
     "base_uri": "https://localhost:8080/"
    },
    "id": "adc58b58",
    "outputId": "15eeafa6-86d6-413b-a1ac-e10702b71612"
   },
   "outputs": [],
   "source": [
    "# Dilation model\n",
    "xin = Input(shape=(None, None, 1))\n",
    "x = Dilation2D(1, kernel_size=(7, 7))(xin)\n",
    "modelDilFlatSquare = Model(xin, x)\n",
    "modelDilFlatSquare.summary()"
   ]
  },
  {
   "cell_type": "code",
   "execution_count": null,
   "id": "1c10bc69",
   "metadata": {
    "id": "1c10bc69"
   },
   "outputs": [],
   "source": [
    "catDil = modelDilFlatSquare.predict(np.expand_dims(imCat, axis=0))"
   ]
  },
  {
   "cell_type": "code",
   "execution_count": null,
   "id": "a725b969",
   "metadata": {
    "colab": {
     "base_uri": "https://localhost:8080/",
     "height": 558
    },
    "id": "a725b969",
    "outputId": "64fe2640-a86b-4c29-fb98-36df9558a44e"
   },
   "outputs": [],
   "source": [
    "plt.figure(figsize=(30, 12))\n",
    "plt.subplot(1, 2, 1)\n",
    "plt.axis(\"off\")\n",
    "plt.imshow(imCat, cmap=\"gray\", vmin=0, vmax=255)\n",
    "plt.title(\"Original\", fontsize=20)\n",
    "plt.subplot(1, 2, 2)\n",
    "plt.imshow(catDil[0, :, :, 0], cmap=\"gray\", vmin=0, vmax=255)\n",
    "plt.title(\"Dilation by 7 x 7 square\", fontsize=20)\n",
    "plt.axis(\"off\")\n",
    "plt.show()"
   ]
  },
  {
   "cell_type": "code",
   "execution_count": null,
   "id": "58b4d6b5",
   "metadata": {
    "colab": {
     "base_uri": "https://localhost:8080/"
    },
    "id": "58b4d6b5",
    "outputId": "080647ac-409b-4800-dffa-57e9775e7f07"
   },
   "outputs": [],
   "source": [
    "# Erosion model\n",
    "xin = Input(shape=(None, None, 1))\n",
    "x = Erosion2D(1, kernel_size=(7, 7))(xin)\n",
    "modelEroFlatSquare = Model(xin, x)\n",
    "modelEroFlatSquare.summary()"
   ]
  },
  {
   "cell_type": "code",
   "execution_count": null,
   "id": "b5572c89",
   "metadata": {
    "id": "b5572c89"
   },
   "outputs": [],
   "source": [
    "catEro = modelEroFlatSquare.predict(np.expand_dims(imCat, axis=0))"
   ]
  },
  {
   "cell_type": "code",
   "execution_count": null,
   "id": "679e2d2a",
   "metadata": {
    "colab": {
     "base_uri": "https://localhost:8080/",
     "height": 558
    },
    "id": "679e2d2a",
    "outputId": "0585ed54-b07f-4e6a-f5be-02a07c913916"
   },
   "outputs": [],
   "source": [
    "plt.figure(figsize=(30, 12))\n",
    "plt.subplot(1, 2, 1)\n",
    "plt.axis(\"off\")\n",
    "plt.imshow(imCat, cmap=\"gray\", vmin=0, vmax=255)\n",
    "plt.title(\"Original\", fontsize=20)\n",
    "plt.subplot(1, 2, 2)\n",
    "plt.imshow(catEro[0, :, :, 0], cmap=\"gray\", vmin=0, vmax=255)\n",
    "plt.title(\"Erosion by 7 x 7 square\", fontsize=20)\n",
    "plt.axis(\"off\")\n",
    "plt.show()"
   ]
  },
  {
   "cell_type": "markdown",
   "id": "38a99377",
   "metadata": {
    "id": "38a99377"
   },
   "source": [
    "### Cross structuring element (3 x 3)"
   ]
  },
  {
   "cell_type": "code",
   "execution_count": null,
   "id": "79c78199",
   "metadata": {
    "colab": {
     "base_uri": "https://localhost:8080/"
    },
    "id": "79c78199",
    "outputId": "c15dc3f8-727e-43b1-e43b-19ea6b6c136f"
   },
   "outputs": [],
   "source": [
    "import skimage.morphology as skm\n",
    "\n",
    "cross = skm.disk(1)\n",
    "cross = np.round(-1.0 * (cross - 1))\n",
    "print(cross)"
   ]
  },
  {
   "cell_type": "code",
   "execution_count": null,
   "id": "3f9333e3",
   "metadata": {
    "id": "3f9333e3"
   },
   "outputs": [],
   "source": [
    "# Dilation model\n",
    "xin = Input(shape=(None, None, 1))\n",
    "x = Dilation2D(\n",
    "    1,\n",
    "    kernel_size=(cross.shape[0], cross.shape[1]),\n",
    "    kernel_initializer=SEinitializer(SE=cross, minval=0),\n",
    ")(xin)\n",
    "modelDilCross = Model(xin, x)"
   ]
  },
  {
   "cell_type": "code",
   "execution_count": null,
   "id": "4b9df095",
   "metadata": {
    "colab": {
     "base_uri": "https://localhost:8080/",
     "height": 291
    },
    "id": "4b9df095",
    "outputId": "3c6825e6-8186-4c1f-ebdd-3987d1883021"
   },
   "outputs": [],
   "source": [
    "listW = modelDilCross.get_weights()\n",
    "SE = listW[-1]\n",
    "print(SE.shape)\n",
    "plt.figure()\n",
    "plt.imshow(SE[:, :, 0, 0], cmap=\"gray\", vmax=0, vmin=-255)  # RdBu\n",
    "plt.colorbar()\n",
    "plt.axis(\"off\")\n",
    "print(SE.max(), SE.min())"
   ]
  },
  {
   "cell_type": "code",
   "execution_count": null,
   "id": "2e498c79",
   "metadata": {
    "id": "2e498c79"
   },
   "outputs": [],
   "source": [
    "# Apply dilation to all batch of Fashion Mnist images\n",
    "fmnistDilCross = modelDilCross.predict(Batch)"
   ]
  },
  {
   "cell_type": "code",
   "execution_count": null,
   "id": "b29627c6",
   "metadata": {
    "colab": {
     "base_uri": "https://localhost:8080/",
     "height": 589
    },
    "id": "b29627c6",
    "outputId": "d99a303b-3ef7-41d5-c179-089cf62ac995"
   },
   "outputs": [],
   "source": [
    "plt.figure(figsize=(30, 5))\n",
    "for i in range(nsamp):\n",
    "    plt.subplot(1, nsamp, i + 1)\n",
    "    plt.imshow(Batch[i], cmap=\"gray\", vmin=0, vmax=255)\n",
    "    plt.axis(\"off\")\n",
    "plt.show()\n",
    "plt.figure(figsize=(30, 5))\n",
    "for i in range(nsamp):\n",
    "    plt.subplot(1, nsamp, i + 1)\n",
    "    plt.imshow(fmnistDilCross[i, :, :, 0], cmap=\"gray\", vmin=0, vmax=255)\n",
    "    plt.axis(\"off\")\n",
    "plt.show()"
   ]
  },
  {
   "cell_type": "code",
   "execution_count": null,
   "id": "fdd6f5b0",
   "metadata": {
    "id": "fdd6f5b0"
   },
   "outputs": [],
   "source": [
    "# Erosion model\n",
    "xin = Input(shape=(None, None, 1))\n",
    "x = Erosion2D(\n",
    "    1,\n",
    "    kernel_size=(cross.shape[0], cross.shape[1]),\n",
    "    kernel_initializer=SEinitializer(SE=cross, minval=0),\n",
    ")(xin)\n",
    "modelEroCross = Model(xin, x)"
   ]
  },
  {
   "cell_type": "code",
   "execution_count": null,
   "id": "52b07e4f",
   "metadata": {
    "id": "52b07e4f"
   },
   "outputs": [],
   "source": [
    "# Opening model\n",
    "xin = Input(shape=(None, None, 1))\n",
    "x = Opening2D(\n",
    "    1,\n",
    "    kernel_size=(cross.shape[0], cross.shape[1]),\n",
    "    kernel_initializer=SEinitializer(SE=cross, minval=0),\n",
    ")(xin)\n",
    "modelOpenCross = Model(xin, x)"
   ]
  },
  {
   "cell_type": "code",
   "execution_count": null,
   "id": "780c70ce",
   "metadata": {
    "id": "780c70ce"
   },
   "outputs": [],
   "source": [
    "# Closing model\n",
    "xin = Input(shape=(None, None, 1))\n",
    "x = Closing2D(\n",
    "    1,\n",
    "    kernel_size=(cross.shape[0], cross.shape[1]),\n",
    "    kernel_initializer=SEinitializer(SE=cross, minval=0),\n",
    ")(xin)\n",
    "modelClosCross = Model(xin, x)"
   ]
  },
  {
   "cell_type": "code",
   "execution_count": null,
   "id": "bdffe812",
   "metadata": {
    "colab": {
     "base_uri": "https://localhost:8080/"
    },
    "id": "bdffe812",
    "outputId": "2d4f4284-dd87-4d17-8e3e-defd4ceeb960"
   },
   "outputs": [],
   "source": [
    "# Apply operators to all batch of Fashion Mnist images\n",
    "fmnistEroCross = modelEroCross.predict(Batch)\n",
    "fmnistOpenCross = modelOpenCross.predict(Batch)\n",
    "fmnistClosCross = modelClosCross.predict(Batch)"
   ]
  },
  {
   "cell_type": "code",
   "execution_count": null,
   "id": "437f0128",
   "metadata": {
    "colab": {
     "base_uri": "https://localhost:8080/",
     "height": 626
    },
    "id": "437f0128",
    "outputId": "2c8dfe94-97a7-47fd-9334-1869329bc7b1"
   },
   "outputs": [],
   "source": [
    "print(\"Original\")\n",
    "plt.figure(figsize=(30, 5))\n",
    "for i in range(nsamp):\n",
    "    plt.subplot(1, nsamp, i + 1)\n",
    "    plt.imshow(Batch[i], cmap=\"gray\", vmin=0, vmax=255)\n",
    "    plt.axis(\"off\")\n",
    "plt.show()\n",
    "print(\"Erosion\")\n",
    "plt.figure(figsize=(30, 5))\n",
    "for i in range(nsamp):\n",
    "    plt.subplot(1, nsamp, i + 1)\n",
    "    plt.imshow(fmnistEroCross[i, :, :, 0], cmap=\"gray\", vmin=0, vmax=255)\n",
    "    plt.axis(\"off\")\n",
    "plt.show()"
   ]
  },
  {
   "cell_type": "code",
   "execution_count": null,
   "id": "a419958d",
   "metadata": {
    "colab": {
     "base_uri": "https://localhost:8080/",
     "height": 626
    },
    "id": "a419958d",
    "outputId": "4b77071f-15d8-4d88-d8d9-2168a2900d2a"
   },
   "outputs": [],
   "source": [
    "print(\"Original\")\n",
    "plt.figure(figsize=(30, 5))\n",
    "for i in range(nsamp):\n",
    "    plt.subplot(1, nsamp, i + 1)\n",
    "    plt.imshow(Batch[i], cmap=\"gray\", vmin=0, vmax=255)\n",
    "    plt.axis(\"off\")\n",
    "plt.show()\n",
    "print(\"Opening\")\n",
    "plt.figure(figsize=(30, 5))\n",
    "for i in range(nsamp):\n",
    "    plt.subplot(1, nsamp, i + 1)\n",
    "    plt.imshow(fmnistOpenCross[i, :, :, 0], cmap=\"gray\", vmin=0, vmax=255)\n",
    "    plt.axis(\"off\")\n",
    "plt.show()"
   ]
  },
  {
   "cell_type": "code",
   "execution_count": null,
   "id": "c76071de",
   "metadata": {
    "colab": {
     "base_uri": "https://localhost:8080/",
     "height": 626
    },
    "id": "c76071de",
    "outputId": "b735ca61-93e9-4e1e-bb95-983a3cb3d975"
   },
   "outputs": [],
   "source": [
    "print(\"Original\")\n",
    "plt.figure(figsize=(30, 5))\n",
    "for i in range(nsamp):\n",
    "    plt.subplot(1, nsamp, i + 1)\n",
    "    plt.imshow(Batch[i], cmap=\"gray\", vmin=0, vmax=255)\n",
    "    plt.axis(\"off\")\n",
    "plt.show()\n",
    "print(\"Closing\")\n",
    "plt.figure(figsize=(30, 5))\n",
    "for i in range(nsamp):\n",
    "    plt.subplot(1, nsamp, i + 1)\n",
    "    plt.imshow(fmnistClosCross[i, :, :, 0], cmap=\"gray\", vmin=0, vmax=255)\n",
    "    plt.axis(\"off\")\n",
    "plt.show()"
   ]
  },
  {
   "cell_type": "markdown",
   "id": "9252d5c3",
   "metadata": {
    "id": "9252d5c3"
   },
   "source": [
    "### Quadratic structuring element"
   ]
  },
  {
   "cell_type": "markdown",
   "id": "7ee7b9ab",
   "metadata": {
    "id": "7ee7b9ab"
   },
   "source": [
    "Structuring function: $$b(x) = -c\\cdot \\frac{||x||^2}{t^2} $$"
   ]
  },
  {
   "cell_type": "code",
   "execution_count": null,
   "id": "a4ff0fcb",
   "metadata": {
    "id": "a4ff0fcb"
   },
   "outputs": [],
   "source": [
    "p = 5  # SE of size (2*p+1)^2\n",
    "tval = 2 * p\n",
    "cval = 0.5 * 255"
   ]
  },
  {
   "cell_type": "code",
   "execution_count": null,
   "id": "a6e312ed",
   "metadata": {
    "colab": {
     "base_uri": "https://localhost:8080/"
    },
    "id": "a6e312ed",
    "outputId": "54727ff7-5a9f-4c6a-c03e-eec6dd688455"
   },
   "outputs": [],
   "source": [
    "# Dilation model\n",
    "xin = Input(shape=(None, None, 1))\n",
    "x = Dilation2D(\n",
    "    1,\n",
    "    kernel_size=(2 * p + 1, 2 * p + 1),\n",
    "    kernel_initializer=Quadratic(tvalue=tval, cvalue=cval),\n",
    ")(xin)\n",
    "modelDilQuad = Model(xin, x)\n",
    "modelDilQuad.summary()"
   ]
  },
  {
   "cell_type": "code",
   "execution_count": null,
   "id": "cf62c36c",
   "metadata": {
    "colab": {
     "base_uri": "https://localhost:8080/"
    },
    "id": "cf62c36c",
    "outputId": "181023a1-0be9-432f-a1d3-adb9830aba5d"
   },
   "outputs": [],
   "source": [
    "listW = modelDilQuad.get_weights()\n",
    "SE = listW[-1]\n",
    "print(SE.shape)\n",
    "plt.figure()\n",
    "plt.imshow(SE[:, :, 0, 0], cmap=\"gray\", vmax=0, vmin=-255)  # RdBu\n",
    "plt.colorbar()\n",
    "plt.axis(\"off\")\n",
    "print(SE.max(), SE.min())"
   ]
  },
  {
   "cell_type": "code",
   "execution_count": null,
   "id": "b79a9fd3",
   "metadata": {
    "id": "b79a9fd3"
   },
   "outputs": [],
   "source": [
    "# Erosion model\n",
    "xin = Input(shape=(None, None, 1))\n",
    "x = Erosion2D(\n",
    "    1,\n",
    "    kernel_size=(2 * p + 1, 2 * p + 1),\n",
    "    kernel_initializer=Quadratic(tvalue=tval, cvalue=cval),\n",
    ")(xin)\n",
    "modelEroQuad = Model(xin, x)"
   ]
  },
  {
   "cell_type": "code",
   "execution_count": null,
   "id": "0caf1dd2",
   "metadata": {
    "id": "0caf1dd2"
   },
   "outputs": [],
   "source": [
    "# Opening model\n",
    "xin = Input(shape=(None, None, 1))\n",
    "x = Opening2D(\n",
    "    1,\n",
    "    kernel_size=(2 * p + 1, 2 * p + 1),\n",
    "    kernel_initializer=Quadratic(tvalue=tval, cvalue=cval),\n",
    ")(xin)\n",
    "modelOpenQuad = Model(xin, x)"
   ]
  },
  {
   "cell_type": "code",
   "execution_count": null,
   "id": "820e61c1",
   "metadata": {
    "id": "820e61c1"
   },
   "outputs": [],
   "source": [
    "# Closing model\n",
    "xin = Input(shape=(None, None, 1))\n",
    "x = Closing2D(\n",
    "    1,\n",
    "    kernel_size=(2 * p + 1, 2 * p + 1),\n",
    "    kernel_initializer=Quadratic(tvalue=tval, cvalue=cval),\n",
    ")(xin)\n",
    "modelClosQuad = Model(xin, x)"
   ]
  },
  {
   "cell_type": "code",
   "execution_count": null,
   "id": "a990ae7d",
   "metadata": {
    "id": "a990ae7d"
   },
   "outputs": [],
   "source": [
    "# Apply operators\n",
    "catDilQuad = modelDilQuad.predict(np.expand_dims(imCat, axis=0))\n",
    "catEroQuad = modelEroQuad.predict(np.expand_dims(imCat, axis=0))\n",
    "catOpenQuad = modelOpenQuad.predict(np.expand_dims(imCat, axis=0))\n",
    "catClosQuad = modelClosQuad.predict(np.expand_dims(imCat, axis=0))"
   ]
  },
  {
   "cell_type": "code",
   "execution_count": null,
   "id": "4fa84667",
   "metadata": {
    "colab": {
     "base_uri": "https://localhost:8080/"
    },
    "id": "4fa84667",
    "outputId": "0eb0be3f-5327-4bde-e97d-8f2fc3df78f1"
   },
   "outputs": [],
   "source": [
    "plt.figure(figsize=(15, 7))\n",
    "plt.imshow(imCat, cmap=\"gray\", vmin=0, vmax=255)\n",
    "plt.title(\"Original\", fontsize=20)\n",
    "plt.axis(\"off\")\n",
    "plt.show()"
   ]
  },
  {
   "cell_type": "code",
   "execution_count": null,
   "id": "671e4a2b",
   "metadata": {
    "colab": {
     "base_uri": "https://localhost:8080/"
    },
    "id": "671e4a2b",
    "outputId": "88d139c3-d959-4c73-b328-592876cb0207"
   },
   "outputs": [],
   "source": [
    "plt.figure(figsize=(30, 20))\n",
    "plt.subplot(2, 2, 1)\n",
    "plt.axis(\"off\")\n",
    "plt.imshow(catEroQuad[0, :, :, 0], cmap=\"gray\", vmin=0, vmax=255)\n",
    "plt.title(\"Erosion\", fontsize=20)\n",
    "plt.subplot(2, 2, 2)\n",
    "plt.imshow(catDilQuad[0, :, :, 0], cmap=\"gray\", vmin=0, vmax=255)\n",
    "plt.title(\"Dilation\", fontsize=20)\n",
    "plt.axis(\"off\")\n",
    "plt.subplot(2, 2, 3)\n",
    "plt.axis(\"off\")\n",
    "plt.imshow(catOpenQuad[0, :, :, 0], cmap=\"gray\", vmin=0, vmax=255)\n",
    "plt.title(\"Opening\", fontsize=20)\n",
    "plt.subplot(2, 2, 4)\n",
    "plt.imshow(catClosQuad[0, :, :, 0], cmap=\"gray\", vmin=0, vmax=255)\n",
    "plt.title(\"Closing\", fontsize=20)\n",
    "plt.axis(\"off\")\n",
    "plt.show()"
   ]
  },
  {
   "cell_type": "code",
   "execution_count": null,
   "id": "f7cbdfab",
   "metadata": {
    "id": "f7cbdfab"
   },
   "outputs": [],
   "source": []
  }
 ],
 "metadata": {
  "colab": {
   "provenance": []
  },
  "kernelspec": {
   "display_name": "Python 3 (ipykernel)",
   "language": "python",
   "name": "python3"
  },
  "language_info": {
   "codemirror_mode": {
    "name": "ipython",
    "version": 3
   },
   "file_extension": ".py",
   "mimetype": "text/x-python",
   "name": "python",
   "nbconvert_exporter": "python",
   "pygments_lexer": "ipython3",
   "version": "3.12.7"
  }
 },
 "nbformat": 4,
 "nbformat_minor": 5
}
