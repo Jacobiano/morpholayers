{
 "cells": [
  {
   "cell_type": "code",
   "execution_count": null,
   "metadata": {
    "colab": {
     "base_uri": "https://localhost:8080/"
    },
    "id": "v4k727ZVnODT",
    "outputId": "6602ff0e-f4b6-49a2-fbe5-1fc56c8cc34c"
   },
   "outputs": [],
   "source": [
    "!git clone https://github.com/Jacobiano/morpholayers.git"
   ]
  },
  {
   "cell_type": "code",
   "execution_count": null,
   "metadata": {
    "colab": {
     "base_uri": "https://localhost:8080/",
     "height": 85
    },
    "id": "NOOCphCYnSZ0",
    "outputId": "428c17f1-7e8d-4646-d48d-589817452179"
   },
   "outputs": [],
   "source": [
    "import tensorflow\n",
    "import numpy as np\n",
    "import matplotlib.pyplot as plt\n",
    "\n",
    "plt.gray()\n",
    "plt.rc(\"font\", family=\"serif\")\n",
    "plt.rc(\"xtick\", labelsize=\"x-small\")\n",
    "plt.rc(\"ytick\", labelsize=\"x-small\")\n",
    "\n",
    "import skimage\n",
    "\n",
    "print(\"TensorFlow version:\", tensorflow.__version__)\n",
    "print(\"Numpy version:\", np.__version__)\n",
    "print(\"Skimage version:\", skimage.__version__)"
   ]
  },
  {
   "cell_type": "code",
   "execution_count": null,
   "metadata": {
    "id": "YftTJrKPndm_"
   },
   "outputs": [],
   "source": [
    "from tensorflow.keras.models import Model\n",
    "from tensorflow.keras.layers import (\n",
    "    Input,\n",
    "    MaxPooling2D,\n",
    "    Flatten,\n",
    "    Dropout,\n",
    "    Dense,\n",
    ")\n",
    "from matplotlib import pyplot as plt\n",
    "import numpy as np\n",
    "from morpholayers.layers import Gradient2D\n",
    "from morpholayers.constraints import SEconstraint\n",
    "from morpholayers.initializers import SparseZeros\n",
    "from sklearn.metrics import classification_report, confusion_matrix"
   ]
  },
  {
   "cell_type": "code",
   "execution_count": null,
   "metadata": {
    "colab": {
     "base_uri": "https://localhost:8080/"
    },
    "id": "MpSQ8mfznimG",
    "outputId": "124dd996-e994-4113-8dfc-87a92d8c4738"
   },
   "outputs": [],
   "source": [
    "from tensorflow.keras.datasets import fashion_mnist\n",
    "\n",
    "(x_train, y_train), (x_test, y_test) = fashion_mnist.load_data()\n",
    "print(x_train.shape)"
   ]
  },
  {
   "cell_type": "code",
   "execution_count": null,
   "metadata": {
    "colab": {
     "base_uri": "https://localhost:8080/"
    },
    "id": "Se5GwW2cnquX",
    "outputId": "1dbed40e-8d13-4460-c01d-ebaaae91b309"
   },
   "outputs": [],
   "source": [
    "# Model / data parameters\n",
    "num_classes = 10\n",
    "input_shape = (28, 28, 1)\n",
    "use_samples = 5000  # Number of samples used in the training\n",
    "\n",
    "# the data, split between train and test sets\n",
    "x_train = x_train[0:use_samples]\n",
    "y_train = y_train[0:use_samples]\n",
    "\n",
    "# Scale images to the [0, 1] range\n",
    "x_train = x_train.astype(\"float32\") / 255\n",
    "x_test = x_test.astype(\"float32\") / 255\n",
    "# Make sure images have shape (28, 28, 1)\n",
    "x_train = np.expand_dims(x_train, -1)\n",
    "x_test = np.expand_dims(x_test, -1)\n",
    "print(\"x_train shape:\", x_train.shape)\n",
    "print(x_train.shape[0], \"train samples\")\n",
    "print(x_test.shape[0], \"test samples\")\n",
    "\n",
    "\n",
    "# convert class vectors to binary class matrices\n",
    "y_train = tensorflow.keras.utils.to_categorical(y_train, num_classes)\n",
    "y_test = tensorflow.keras.utils.to_categorical(y_test, num_classes)"
   ]
  },
  {
   "cell_type": "code",
   "execution_count": null,
   "metadata": {
    "colab": {
     "base_uri": "https://localhost:8080/",
     "height": 932
    },
    "id": "WrsZ5B16TxoY",
    "outputId": "88c60753-16b0-4287-98dc-a1fd2f17e17f"
   },
   "outputs": [],
   "source": [
    "# Define the text labels\n",
    "fashion_mnist_labels = [\n",
    "    \"T-shirt/top\",  # index 0\n",
    "    \"Trouser\",  # index 1\n",
    "    \"Pullover\",  # index 2\n",
    "    \"Dress\",  # index 3\n",
    "    \"Coat\",  # index 4\n",
    "    \"Sandal\",  # index 5\n",
    "    \"Shirt\",  # index 6\n",
    "    \"Sneaker\",  # index 7\n",
    "    \"Bag\",  # index 8\n",
    "    \"Ankle boot\",\n",
    "]  # index 9\n",
    "\n",
    "plt.figure(figsize=(16, 16))\n",
    "for i in range(25):\n",
    "    # Image index, you can pick any number between 0 and 59,999\n",
    "    img_index = i + 1\n",
    "    # y_train contains the lables, ranging from 0 to 9\n",
    "    label_index = np.argmax(y_train, axis=1)[img_index]\n",
    "    plt.subplot(5, 5, i + 1)\n",
    "    plt.imshow(x_train[img_index, :, :, 0])\n",
    "    plt.title((fashion_mnist_labels[label_index]))"
   ]
  },
  {
   "cell_type": "code",
   "execution_count": null,
   "metadata": {
    "colab": {
     "base_uri": "https://localhost:8080/"
    },
    "id": "QQ932CVPonOH",
    "outputId": "8bd96dd9-a93b-4cd5-bbfd-23acfb7d25f5"
   },
   "outputs": [],
   "source": [
    "import skimage.morphology as skm\n",
    "\n",
    "# cross=skm.disk(1)\n",
    "ownSE = skm.disk(2)\n",
    "print(ownSE)"
   ]
  },
  {
   "cell_type": "code",
   "execution_count": null,
   "metadata": {
    "id": "QKXnQP5loFo9"
   },
   "outputs": [],
   "source": [
    "xin = Input(shape=input_shape)\n",
    "# xlayer=Dilation2D(9, padding='valid',kernel_size=(ownSE.shape[0],ownSE.shape[1]), kernel_initializer='zeros',kernel_constraint = SEconstraint(SE=ownSE))(xin)\n",
    "# xlayer=Dilation2D(9, padding='valid',kernel_size=(ownSE.shape[0],ownSE.shape[1]), kernel_initializer=RandomLattice(),kernel_constraint = SEconstraint(SE=ownSE))(xin)\n",
    "# xlayer=Dilation2D(9, padding='valid',kernel_size=(ownSE.shape[0],ownSE.shape[1]), kernel_initializer=SparseZeros(th=.75),kernel_constraint = SEconstraint(SE=ownSE))(xin)\n",
    "# xlayer=Gradient2D(9, padding='valid',kernel_size=(ownSE.shape[0],ownSE.shape[1]), kernel_initializer=RandomLattice(),kernel_constraint = SEconstraint(SE=ownSE))(xin)\n",
    "xlayer = Gradient2D(\n",
    "    9,\n",
    "    padding=\"valid\",\n",
    "    kernel_size=(ownSE.shape[0], ownSE.shape[1]),\n",
    "    kernel_initializer=SparseZeros(th=0.75),\n",
    "    kernel_constraint=SEconstraint(SE=ownSE),\n",
    ")(xin)\n",
    "x = MaxPooling2D(pool_size=(2, 2))(xlayer)\n",
    "x = Flatten()(x)\n",
    "x = Dropout(0.5)(x)\n",
    "xoutput = Dense(num_classes, activation=\"softmax\")(x)\n",
    "modeli = Model(xin, outputs=xoutput)"
   ]
  },
  {
   "cell_type": "code",
   "execution_count": null,
   "metadata": {
    "colab": {
     "base_uri": "https://localhost:8080/"
    },
    "id": "QCCz0n2P6Ttr",
    "outputId": "ca1bb9b8-9ff0-45da-bf18-3f0c778121f2"
   },
   "outputs": [],
   "source": [
    "modeli.summary()"
   ]
  },
  {
   "cell_type": "code",
   "execution_count": null,
   "metadata": {
    "id": "UCTa_AV0BHW_"
   },
   "outputs": [],
   "source": []
  },
  {
   "cell_type": "markdown",
   "metadata": {
    "id": "LBl5ZoUrBMEm"
   },
   "source": [
    "**Some Examples of Morphological Layers:**\n",
    "\n",
    "*   Dilation2D\n",
    "*   Erosion2D\n",
    "\n",
    "*   Opening2D\n",
    "*   Closing2D\n",
    "\n",
    "*   TopHatClosing2D\n",
    "*   TopHatOpening2D\n",
    "\n",
    "*   Gradient2D\n",
    "*   Probing2D\n",
    "\n",
    "\n",
    "*   Reconstruction (Check documentation)\n",
    "*   ToggleMapping (Check documentation)\n"
   ]
  },
  {
   "cell_type": "code",
   "execution_count": null,
   "metadata": {
    "id": "xGZXlyxaCiTs"
   },
   "outputs": [],
   "source": []
  },
  {
   "cell_type": "markdown",
   "metadata": {
    "id": "U42Zm9ywA13X"
   },
   "source": [
    "**Initialization**\n",
    "\n",
    "* Zeros: Flat SE (Used as default value):\n",
    "\n",
    "* RandomNormal(mean=0.0, stddev=0.05):\n",
    "\n",
    "* RandomUniform(minval=-0.05, maxval=0.05)\n",
    "\n",
    "* Ones: All value on 1. (Non-sense in the case of a morphological layer)\n",
    "\n",
    "* Quadratic: Quadratic structuring element\n",
    "\n",
    "* RandomLattice: Random values between (-∞ and ∞)\n",
    "\n",
    "* RandomNegativeLattice: Random values between (-∞ and 0)\n",
    "\n",
    "* MinusOnesZeroCenter: Identity SE (0 in the center and -∞ otherwise)\n",
    "\n",
    "* SignedOnes: Random (-∞ or ∞) values\n",
    "\n",
    "* SparseZeros: SparseZeros(th=.95),(th*100)% values in -∞ and the rest to 0.\n",
    "\n",
    "* SparseNumZeros: SparseNumZeros(th=0),(th+1) values in 0 and the rest to -∞.\n",
    "\n",
    "* RandomwithMinLattice: Random values between (-∞ and ∞) and center to −∞\n",
    "\n",
    "* RandomwithZeroLattice: Random values between (-∞ and ∞) and center to 0\n",
    "\n",
    "* RandomwithMaxLattice: Random values between (-∞ and ∞) and center to ∞"
   ]
  },
  {
   "cell_type": "code",
   "execution_count": null,
   "metadata": {
    "colab": {
     "base_uri": "https://localhost:8080/"
    },
    "id": "aDxpaURTn9lo",
    "outputId": "c6cbf71d-6db7-455e-9e97-4b4c9698d2c5"
   },
   "outputs": [],
   "source": [
    "# tensorflow.keras.utils.plot_model(modeli, to_file='model.png',show_shapes=True,show_layer_names=False)\n",
    "# plt.figure(figsize=(20,15))\n",
    "# plt.imshow(plt.imread('model.png'))\n",
    "# plt.axis('off')\n",
    "# plt.title('Architecture')\n",
    "# plt.show()\n",
    "# print('Number of Parameters by Layer')\n",
    "modeli.summary()"
   ]
  },
  {
   "cell_type": "code",
   "execution_count": null,
   "metadata": {
    "id": "JrbBFr8kpHar"
   },
   "outputs": [],
   "source": [
    "modeli.compile(\n",
    "    loss=\"categorical_crossentropy\",\n",
    "    optimizer=tensorflow.keras.optimizers.Adam(),\n",
    "    metrics=[\"accuracy\"],\n",
    ")"
   ]
  },
  {
   "cell_type": "code",
   "execution_count": null,
   "metadata": {
    "colab": {
     "base_uri": "https://localhost:8080/",
     "height": 280
    },
    "id": "6MdLqi5bXugx",
    "outputId": "85a92b5a-c8da-4651-d065-a0eb74633540"
   },
   "outputs": [],
   "source": [
    "print(\"Initialization\")\n",
    "for i in range(9):\n",
    "    plt.subplot(3, 3, i + 1)\n",
    "    plt.imshow(modeli.layers[1].weights[0][:, :, 0, i], clim=[-1, 1])\n",
    "plt.show()"
   ]
  },
  {
   "cell_type": "code",
   "execution_count": null,
   "metadata": {
    "colab": {
     "background_save": true,
     "base_uri": "https://localhost:8080/"
    },
    "id": "Opw1ucMMpPzw",
    "outputId": "76b99fba-65ce-4083-f738-a92743d788ef"
   },
   "outputs": [],
   "source": [
    "history = modeli.fit(\n",
    "    x_train, y_train, batch_size=24, epochs=10, validation_data=(x_test, y_test)\n",
    ")"
   ]
  },
  {
   "cell_type": "code",
   "execution_count": null,
   "metadata": {
    "id": "7uW358XKDgpc"
   },
   "outputs": [],
   "source": [
    "plt.plot(history.history[\"loss\"], label=\"training loss\")\n",
    "plt.plot(history.history[\"val_loss\"], label=\"validation loss\")\n",
    "plt.grid()\n",
    "plt.legend()\n",
    "plt.xlabel(\"Epochs\")\n",
    "plt.ylabel(\"Loss\")"
   ]
  },
  {
   "cell_type": "code",
   "execution_count": null,
   "metadata": {
    "id": "1byce893EBCm"
   },
   "outputs": [],
   "source": [
    "plt.plot(history.history[\"accuracy\"], label=\"Accuracy\")\n",
    "plt.plot(history.history[\"val_accuracy\"], label=\"Validation Accuracy\")\n",
    "plt.grid()\n",
    "plt.legend()\n",
    "plt.xlabel(\"Epochs\")\n",
    "plt.ylabel(\"Loss\")"
   ]
  },
  {
   "cell_type": "code",
   "execution_count": null,
   "metadata": {
    "id": "N2wy2uXqpo5-"
   },
   "outputs": [],
   "source": [
    "modeli.layers"
   ]
  },
  {
   "cell_type": "code",
   "execution_count": null,
   "metadata": {
    "id": "whuc9xETpta_"
   },
   "outputs": [],
   "source": [
    "modeli.layers[1].weights[0].shape"
   ]
  },
  {
   "cell_type": "code",
   "execution_count": null,
   "metadata": {
    "id": "KWuO5YYGpzxb"
   },
   "outputs": [],
   "source": [
    "print(\"Obtained Structuring Elements\")\n",
    "for i in range(9):\n",
    "    plt.subplot(3, 3, i + 1)\n",
    "    plt.imshow(modeli.layers[1].weights[0][:, :, 0, i], clim=[-1, 0])\n",
    "plt.show()"
   ]
  },
  {
   "cell_type": "code",
   "execution_count": null,
   "metadata": {
    "id": "bA5kG6tgp-FE"
   },
   "outputs": [],
   "source": [
    "modelinterpretation = Model(xin, outputs=xlayer)"
   ]
  },
  {
   "cell_type": "code",
   "execution_count": null,
   "metadata": {
    "id": "w_2RYVVv2A4j"
   },
   "outputs": [],
   "source": [
    "y_act = modelinterpretation.predict(x_train[0:5, :, :, :])"
   ]
  },
  {
   "cell_type": "code",
   "execution_count": null,
   "metadata": {
    "id": "Wo2YZGOs2ItM"
   },
   "outputs": [],
   "source": [
    "for i in range(9):\n",
    "    plt.subplot(3, 3, i + 1)\n",
    "    plt.imshow(y_act[1, :, :, i])\n",
    "plt.show()"
   ]
  },
  {
   "cell_type": "code",
   "execution_count": null,
   "metadata": {
    "id": "uevfamB8P6xE"
   },
   "outputs": [],
   "source": [
    "Y_test = np.argmax(y_test, axis=1)  # Convert one-hot to index\n",
    "y_pred = np.argmax(modeli.predict(x_test), axis=1)\n",
    "CM = confusion_matrix(Y_test, y_pred)\n",
    "print(CM)\n",
    "plt.imshow(CM, cmap=\"hot\", vmin=0, vmax=1000)\n",
    "plt.title(\"Confusion Matrix\")\n",
    "plt.show()\n",
    "print(classification_report(Y_test, y_pred))"
   ]
  }
 ],
 "metadata": {
  "accelerator": "GPU",
  "colab": {
   "provenance": []
  },
  "kernelspec": {
   "display_name": "Python 3 (ipykernel)",
   "language": "python",
   "name": "python3"
  },
  "language_info": {
   "codemirror_mode": {
    "name": "ipython",
    "version": 3
   },
   "file_extension": ".py",
   "mimetype": "text/x-python",
   "name": "python",
   "nbconvert_exporter": "python",
   "pygments_lexer": "ipython3",
   "version": "3.12.7"
  }
 },
 "nbformat": 4,
 "nbformat_minor": 4
}
