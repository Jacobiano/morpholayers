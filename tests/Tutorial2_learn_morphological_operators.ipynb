{
 "cells": [
  {
   "cell_type": "code",
   "execution_count": null,
   "id": "abf28793",
   "metadata": {
    "colab": {
     "base_uri": "https://localhost:8080/"
    },
    "id": "abf28793",
    "outputId": "8a9b35ec-8e74-4c13-e16f-a25a5fd50ce2"
   },
   "outputs": [],
   "source": [
    "!git clone https://github.com/Jacobiano/morpholayers.git"
   ]
  },
  {
   "cell_type": "code",
   "execution_count": null,
   "id": "5e4c862f",
   "metadata": {
    "id": "5e4c862f"
   },
   "outputs": [],
   "source": [
    "from imageio import imread\n",
    "from matplotlib import pyplot as plt\n",
    "import numpy as np\n",
    "import numpy.matlib\n",
    "import tensorflow.keras\n",
    "from tensorflow.keras.models import Model\n",
    "from tensorflow.keras.layers import Input\n",
    "from tensorflow.keras.callbacks import EarlyStopping\n",
    "from tensorflow.keras.datasets import fashion_mnist\n",
    "from tensorflow.keras import backend as K\n",
    "from morpholayers.layers import Dilation2D, Erosion2D, Opening2D\n",
    "from morpholayers.constraints import NonPositiveExtensive"
   ]
  },
  {
   "cell_type": "markdown",
   "id": "da8634f7",
   "metadata": {
    "id": "da8634f7"
   },
   "source": [
    "## Learning a dilation structuring element by adjunction"
   ]
  },
  {
   "cell_type": "markdown",
   "id": "cVom09fR2ZAn",
   "metadata": {
    "id": "cVom09fR2ZAn"
   },
   "source": [
    "Load an image."
   ]
  },
  {
   "cell_type": "code",
   "execution_count": null,
   "id": "fdd59af9",
   "metadata": {
    "id": "fdd59af9"
   },
   "outputs": [],
   "source": [
    "imCol = imread(\"imageio:chelsea.png\")\n",
    "imCat = imCol[:, :, 0]"
   ]
  },
  {
   "cell_type": "code",
   "execution_count": null,
   "id": "af98bb80",
   "metadata": {
    "colab": {
     "base_uri": "https://localhost:8080/",
     "height": 411
    },
    "id": "af98bb80",
    "outputId": "d2b4b1ce-25f6-4186-ab38-e5c7b1c6e66f"
   },
   "outputs": [],
   "source": [
    "plt.figure(figsize=(15, 7))\n",
    "plt.imshow(imCat, cmap=\"gray\", vmin=0, vmax=255)\n",
    "plt.axis(\"off\")\n",
    "plt.show()"
   ]
  },
  {
   "cell_type": "markdown",
   "id": "yiHTHJL62dHq",
   "metadata": {
    "id": "yiHTHJL62dHq"
   },
   "source": [
    "Function to create structuring elements."
   ]
  },
  {
   "cell_type": "code",
   "execution_count": null,
   "id": "0a162ab3",
   "metadata": {
    "id": "0a162ab3"
   },
   "outputs": [],
   "source": [
    "def mkSE(p, se_type):\n",
    "    K = -255 * np.ones((2 * p + 1, 2 * p + 1))\n",
    "    if se_type == \"cross\":\n",
    "        K[p, :] = 0\n",
    "        K[:, p] = 0\n",
    "    if se_type == \"half_cross\":\n",
    "        K[p, p:] = 0\n",
    "        K[p:, p] = 0\n",
    "    if se_type == \"x-shaped\":\n",
    "        for i in range(2 * p + 1):\n",
    "            K[i, i] = 0\n",
    "            K[i, 2 * p - i] = 0\n",
    "    if se_type == \"diag1\":\n",
    "        for i in range(2 * p + 1):\n",
    "            K[i, 2 * p - i] = 0\n",
    "    if se_type == \"diag2\":\n",
    "        for i in range(2 * p + 1):\n",
    "            K[i, i] = 0\n",
    "    if se_type == \"quad\":\n",
    "        lambd = 2 * p\n",
    "        for i in range(2 * p + 1):\n",
    "            for j in range(2 * p + 1):\n",
    "                K[i, j] = int(\n",
    "                    np.round(-0.5 * 255 * ((i - p) ** 2 + (j - p) ** 2) / lambd**2)\n",
    "                )\n",
    "    return K"
   ]
  },
  {
   "cell_type": "markdown",
   "id": "W45nTMcs2q04",
   "metadata": {
    "id": "W45nTMcs2q04"
   },
   "source": [
    "Let's first try a $3\\times 3$ cross structuring element (that is, $p=1$ and hence $2p+1 = 3$)."
   ]
  },
  {
   "cell_type": "code",
   "execution_count": null,
   "id": "e71e2cf4",
   "metadata": {
    "colab": {
     "base_uri": "https://localhost:8080/",
     "height": 254
    },
    "id": "e71e2cf4",
    "outputId": "8eeb2e0c-602a-4fcf-d935-280d08a9fa5b"
   },
   "outputs": [],
   "source": [
    "p = 1\n",
    "SE_id = \"cross\"  #'diag2' #'diag1' #'x-shaped' # cross #'half_cross' #'quad'\n",
    "SE = mkSE(p, SE_id)\n",
    "plt.figure()\n",
    "plt.imshow(SE, cmap=\"gray\", vmax=0, vmin=-255)\n",
    "plt.colorbar()\n",
    "plt.axis(\"off\")\n",
    "plt.show()"
   ]
  },
  {
   "cell_type": "markdown",
   "id": "XZZvWcY32zgJ",
   "metadata": {
    "id": "XZZvWcY32zgJ"
   },
   "source": [
    "The following functions implement the learning setting presented in the course:\n",
    "- reshape the $M\\times N$ image as a matrix $\\tilde{X}$ containing $M\\cdot N$ rows and $(2p+1)^2$ columns (each row $i$ is the reshaped $(2p+1)^2$ neighbourhood of pixel $i$.)\n",
    "- the $(2p+1)\\times (2p+1)$ structuring element is reshaped as a $(2p+1)^2$ column $W$\n",
    "- the dilation is the max-plus matrix product $\\tilde{X}.W$\n",
    "- the fuction DilMaxPlus is an additional layer that does all the reshaping to take as input an image and a square structuring element, and return an image."
   ]
  },
  {
   "cell_type": "code",
   "execution_count": null,
   "id": "ae8d7c9f",
   "metadata": {
    "id": "ae8d7c9f"
   },
   "outputs": [],
   "source": [
    "def block_reshape(im_in, p):\n",
    "    m = im_in.shape[0]\n",
    "    n = im_in.shape[1]\n",
    "    im_shape = m * n\n",
    "    im_padded = np.pad(im_in, ((p, p), (p, p)), mode=\"symmetric\")\n",
    "    X = np.zeros((im_shape, (2 * p + 1) ** 2))\n",
    "    for i in range(m):\n",
    "        for j in range(n):\n",
    "            w = im_padded[i : i + 2 * p + 1, j : j + 2 * p + 1]\n",
    "            w = np.reshape(np.transpose(w), ((2 * p + 1) ** 2))\n",
    "            X[m * j + i, :] = w\n",
    "    return X"
   ]
  },
  {
   "cell_type": "code",
   "execution_count": null,
   "id": "9a35a45f",
   "metadata": {
    "id": "9a35a45f"
   },
   "outputs": [],
   "source": [
    "def dil_max_plus(X, W):\n",
    "    X_plus_W = X + np.matlib.repmat(np.transpose(W), X.shape[0], 1)\n",
    "    return X_plus_W.max(axis=1)"
   ]
  },
  {
   "cell_type": "code",
   "execution_count": null,
   "id": "8cad0e63",
   "metadata": {
    "id": "8cad0e63"
   },
   "outputs": [],
   "source": [
    "def DilMaxPlus(im_input, SE):\n",
    "    M = im_input.shape[0]\n",
    "    N = im_input.shape[1]\n",
    "    p = int((SE.shape[0] - 1) / 2)\n",
    "    SECol = np.reshape(np.transpose(SE), ((2 * p + 1) ** 2, 1))\n",
    "    imBlock = block_reshape(im_input, p)\n",
    "    resColumn = dil_max_plus(imBlock, SECol)\n",
    "    im_res = np.reshape(np.transpose(resColumn), (M, N), \"F\")\n",
    "    return im_res"
   ]
  },
  {
   "cell_type": "code",
   "execution_count": null,
   "id": "373afc89",
   "metadata": {
    "id": "373afc89"
   },
   "outputs": [],
   "source": [
    "catDil = DilMaxPlus(imCat, SE)"
   ]
  },
  {
   "cell_type": "code",
   "execution_count": null,
   "id": "01f04040",
   "metadata": {
    "colab": {
     "base_uri": "https://localhost:8080/",
     "height": 558
    },
    "id": "01f04040",
    "outputId": "4f0f3cfe-33ef-4700-bc66-2f77e784f7e8"
   },
   "outputs": [],
   "source": [
    "plt.figure(figsize=(30, 12))\n",
    "plt.subplot(1, 2, 1)\n",
    "plt.axis(\"off\")\n",
    "plt.imshow(imCat, cmap=\"gray\", vmin=0, vmax=255)\n",
    "plt.title(\"Original\", fontsize=20)\n",
    "plt.subplot(1, 2, 2)\n",
    "plt.imshow(catDil, cmap=\"gray\", vmin=0, vmax=255)\n",
    "plt.title(\"Dilation by \" + SE_id + \" SE\", fontsize=20)\n",
    "plt.axis(\"off\")\n",
    "plt.show()"
   ]
  },
  {
   "cell_type": "markdown",
   "id": "f9ca3cf4",
   "metadata": {
    "id": "f9ca3cf4"
   },
   "source": [
    "Reshape output image into a column vector of size $m\\cdot n$:"
   ]
  },
  {
   "cell_type": "code",
   "execution_count": null,
   "id": "cab994fd",
   "metadata": {
    "colab": {
     "base_uri": "https://localhost:8080/"
    },
    "id": "cab994fd",
    "outputId": "682a0f7f-06fb-428c-8610-f8fcd6a1e110"
   },
   "outputs": [],
   "source": [
    "m, n = catDil.shape\n",
    "Y = np.reshape(catDil, (m * n, 1), \"F\")\n",
    "print(Y.shape)"
   ]
  },
  {
   "cell_type": "markdown",
   "id": "3911af88",
   "metadata": {
    "id": "3911af88"
   },
   "source": [
    "Define the erosion adjoint to the max-plus dilation:"
   ]
  },
  {
   "cell_type": "code",
   "execution_count": null,
   "id": "47184688",
   "metadata": {
    "id": "47184688"
   },
   "outputs": [],
   "source": [
    "def erod_min_plus(X, W):\n",
    "    X_plus_W = X + np.matlib.repmat(np.transpose(W), X.shape[0], 1)\n",
    "    return X_plus_W.min(axis=1)"
   ]
  },
  {
   "cell_type": "markdown",
   "id": "709686c5",
   "metadata": {
    "id": "709686c5"
   },
   "source": [
    "Reshape input image into a matrix $X$ of size $(m\\cdot n) \\times (2p+1)^2$:"
   ]
  },
  {
   "cell_type": "code",
   "execution_count": null,
   "id": "1d303a86",
   "metadata": {
    "colab": {
     "base_uri": "https://localhost:8080/"
    },
    "id": "1d303a86",
    "outputId": "7bb23981-6996-4173-93c4-c737445c3586"
   },
   "outputs": [],
   "source": [
    "X = block_reshape(imCat, p)\n",
    "print(X.shape)"
   ]
  },
  {
   "cell_type": "markdown",
   "id": "nee0eQ5d5XZA",
   "metadata": {
    "id": "nee0eQ5d5XZA"
   },
   "source": [
    "Define $X^* = -\\tilde{X}^T$ and apply the adjoint erosion to recover the structuring element: $\\hat{W} = \\varepsilon_{X^*}(Y)$."
   ]
  },
  {
   "cell_type": "code",
   "execution_count": null,
   "id": "c06ca56d",
   "metadata": {
    "colab": {
     "base_uri": "https://localhost:8080/"
    },
    "id": "c06ca56d",
    "outputId": "0cd41beb-3304-4240-9593-3313bf73aa01"
   },
   "outputs": [],
   "source": [
    "X_star = -np.transpose(X)\n",
    "What = erod_min_plus(X_star, Y)\n",
    "What = np.reshape(What, (2 * p + 1, 2 * p + 1), \"F\")\n",
    "print(What)"
   ]
  },
  {
   "cell_type": "markdown",
   "id": "o5hhxcR56BHm",
   "metadata": {
    "id": "o5hhxcR56BHm"
   },
   "source": [
    "Compare original and recovered structuring elements."
   ]
  },
  {
   "cell_type": "code",
   "execution_count": null,
   "id": "502bde32",
   "metadata": {
    "colab": {
     "base_uri": "https://localhost:8080/",
     "height": 361
    },
    "id": "502bde32",
    "outputId": "00251852-a3b2-431d-f07d-0be04a3a2b0c"
   },
   "outputs": [],
   "source": [
    "plt.figure(figsize=(12, 6))\n",
    "plt.subplot(1, 2, 1)\n",
    "plt.imshow(What, cmap=\"gray\", vmax=0, vmin=-255)\n",
    "plt.title(\"Estimated SE\", fontsize=20)\n",
    "plt.colorbar()\n",
    "plt.subplot(1, 2, 2)\n",
    "plt.imshow(SE, cmap=\"gray\", vmax=0, vmin=-255)\n",
    "plt.title(\"Original SE\", fontsize=20)\n",
    "plt.colorbar()\n",
    "plt.show()"
   ]
  },
  {
   "cell_type": "markdown",
   "id": "5Mev1c126JGU",
   "metadata": {
    "id": "5Mev1c126JGU"
   },
   "source": [
    "Compute the dilation of input image with the recovered structuring element and compare with original dilation."
   ]
  },
  {
   "cell_type": "code",
   "execution_count": null,
   "id": "2031d02d",
   "metadata": {
    "id": "2031d02d"
   },
   "outputs": [],
   "source": [
    "catDilEstSE = DilMaxPlus(imCat, What)"
   ]
  },
  {
   "cell_type": "code",
   "execution_count": null,
   "id": "b274bdcd",
   "metadata": {
    "colab": {
     "base_uri": "https://localhost:8080/",
     "height": 558
    },
    "id": "b274bdcd",
    "outputId": "153b0628-c492-466c-8ce9-fee347fd40fe"
   },
   "outputs": [],
   "source": [
    "plt.figure(figsize=(30, 12))\n",
    "plt.subplot(1, 2, 1)\n",
    "plt.axis(\"off\")\n",
    "plt.imshow(catDil, cmap=\"gray\", vmin=0, vmax=255)\n",
    "plt.title(\"Dilation by \" + SE_id + \" SE\", fontsize=20)\n",
    "plt.subplot(1, 2, 2)\n",
    "plt.imshow(catDilEstSE, cmap=\"gray\", vmin=0, vmax=255)\n",
    "plt.title(\"Dilation by estimated SE\", fontsize=20)\n",
    "plt.axis(\"off\")\n",
    "plt.show()"
   ]
  },
  {
   "cell_type": "markdown",
   "id": "a0489ff5",
   "metadata": {
    "id": "a0489ff5"
   },
   "source": [
    "Compute the mean squared error between original and estimated dilation:"
   ]
  },
  {
   "cell_type": "code",
   "execution_count": null,
   "id": "0e356e8e",
   "metadata": {
    "colab": {
     "base_uri": "https://localhost:8080/"
    },
    "id": "0e356e8e",
    "outputId": "a9f65382-3aee-4995-89e9-5111def7d911"
   },
   "outputs": [],
   "source": [
    "errEst = np.sum((catDil - catDilEstSE) ** 2)\n",
    "print(errEst)"
   ]
  },
  {
   "cell_type": "markdown",
   "id": "8f1826f9",
   "metadata": {
    "id": "8f1826f9"
   },
   "source": [
    "## Learning a dilation structuring element by error minization with gradient descent"
   ]
  },
  {
   "cell_type": "markdown",
   "id": "JAFEP6Hm6cZm",
   "metadata": {
    "id": "JAFEP6Hm6cZm"
   },
   "source": [
    "Load Fashion MNIST images."
   ]
  },
  {
   "cell_type": "code",
   "execution_count": null,
   "id": "22058d6c",
   "metadata": {
    "colab": {
     "base_uri": "https://localhost:8080/"
    },
    "id": "22058d6c",
    "outputId": "1d7d560d-a62d-4309-e664-c6550b0f0e56"
   },
   "outputs": [],
   "source": [
    "# input image dimensions\n",
    "img_rows, img_cols = 28, 28\n",
    "num_classes = 10\n",
    "\n",
    "# the data, split between train and test sets\n",
    "\n",
    "(x_train, y_train), (x_test, y_test) = fashion_mnist.load_data()\n",
    "# (x_train, y_train), (x_test, y_test) = mnist.load_data()\n",
    "\n",
    "if K.image_data_format() == \"channels_first\":\n",
    "    x_train = x_train.reshape(x_train.shape[0], 1, img_rows, img_cols)\n",
    "    x_test = x_test.reshape(x_test.shape[0], 1, img_rows, img_cols)\n",
    "    input_shape = (1, img_rows, img_cols)\n",
    "else:\n",
    "    x_train = x_train.reshape(x_train.shape[0], img_rows, img_cols, 1)\n",
    "    x_test = x_test.reshape(x_test.shape[0], img_rows, img_cols, 1)\n",
    "    input_shape = (img_rows, img_cols, 1)\n",
    "\n",
    "x_train = x_train.astype(\"float32\")\n",
    "x_test = x_test.astype(\"float32\")\n",
    "x_train /= 255\n",
    "x_test /= 255\n",
    "print(\"x_train shape:\", x_train.shape)"
   ]
  },
  {
   "cell_type": "markdown",
   "id": "wftjWMAP6gk8",
   "metadata": {
    "id": "wftjWMAP6gk8"
   },
   "source": [
    "Define a $7\\times 7$ quadratic structuring element."
   ]
  },
  {
   "cell_type": "code",
   "execution_count": null,
   "id": "2d73e6dd",
   "metadata": {
    "colab": {
     "base_uri": "https://localhost:8080/",
     "height": 258
    },
    "id": "2d73e6dd",
    "outputId": "59331831-16bc-4630-cbbe-50ee2b942715"
   },
   "outputs": [],
   "source": [
    "p = 3\n",
    "SE_id = \"quad\"  #'diag2' #'diag1' #'x-shaped' # cross #'half_cross' #'quad'\n",
    "SE = mkSE(p, SE_id) / 255\n",
    "plt.figure()\n",
    "plt.imshow(SE, cmap=\"gray\", vmax=0, vmin=-1)\n",
    "plt.colorbar()\n",
    "plt.axis(\"off\")\n",
    "plt.show()"
   ]
  },
  {
   "cell_type": "markdown",
   "id": "nW3y0wvn7dNb",
   "metadata": {
    "id": "nW3y0wvn7dNb"
   },
   "source": [
    "Show examples of dilation results."
   ]
  },
  {
   "cell_type": "code",
   "execution_count": null,
   "id": "5215fb1b",
   "metadata": {
    "colab": {
     "base_uri": "https://localhost:8080/",
     "height": 347
    },
    "id": "5215fb1b",
    "outputId": "73f677de-8f22-40d2-906e-0ef190df9b6b"
   },
   "outputs": [],
   "source": [
    "print(\"Examples from the training set:\")\n",
    "nsamp = 10\n",
    "plt.figure(figsize=(30, 5))\n",
    "ridxs = []\n",
    "for i in range(nsamp):\n",
    "    plt.subplot(1, nsamp, i + 1)\n",
    "    randidx = np.random.randint(x_train.shape[0])\n",
    "    ridxs.append(randidx)\n",
    "    plt.imshow(x_train[randidx, :, :, 0], vmin=0, vmax=1, cmap=\"gray\")\n",
    "    plt.axis(\"off\")\n",
    "plt.show()\n",
    "plt.figure(figsize=(30, 5))\n",
    "for i in range(nsamp):\n",
    "    plt.subplot(1, nsamp, i + 1)\n",
    "    imdil = DilMaxPlus(x_train[ridxs[i], :, :, 0], SE)\n",
    "    plt.imshow(imdil, vmin=0, vmax=1, cmap=\"gray\")\n",
    "    plt.axis(\"off\")\n",
    "plt.show()"
   ]
  },
  {
   "cell_type": "markdown",
   "id": "ab_isqFJ7sID",
   "metadata": {
    "id": "ab_isqFJ7sID"
   },
   "source": [
    "Split images into train and test sets."
   ]
  },
  {
   "cell_type": "code",
   "execution_count": null,
   "id": "320188b0",
   "metadata": {
    "id": "320188b0"
   },
   "outputs": [],
   "source": [
    "ntrain = 150\n",
    "randidxs = np.random.randint(x_train.shape[0], size=(ntrain,))\n",
    "Xtrain = x_train[randidxs, :, :, :]\n",
    "ntest = 50\n",
    "randidxs = np.random.randint(x_test.shape[0], size=(ntest,))\n",
    "Xtest = x_test[randidxs, :, :, :]"
   ]
  },
  {
   "cell_type": "code",
   "execution_count": null,
   "id": "a870ab2e",
   "metadata": {
    "colab": {
     "base_uri": "https://localhost:8080/"
    },
    "id": "a870ab2e",
    "outputId": "a524f483-079e-49bd-cb85-1708462aa2f8"
   },
   "outputs": [],
   "source": [
    "print(Xtrain.shape)\n",
    "print(Xtest.shape)"
   ]
  },
  {
   "cell_type": "markdown",
   "id": "hmy33EUL7xiq",
   "metadata": {
    "id": "hmy33EUL7xiq"
   },
   "source": [
    "Create ground truth labelling (by dilating train and test images)."
   ]
  },
  {
   "cell_type": "code",
   "execution_count": null,
   "id": "0ee6772c",
   "metadata": {
    "id": "0ee6772c"
   },
   "outputs": [],
   "source": [
    "Ytrain = np.zeros(Xtrain.shape)\n",
    "for i in range(ntrain):\n",
    "    Ytrain[i, :, :, 0] = DilMaxPlus(Xtrain[i, :, :, 0], SE)\n",
    "Ytest = np.zeros(Xtest.shape)\n",
    "for i in range(ntest):\n",
    "    Ytest[i, :, :, 0] = DilMaxPlus(Xtest[i, :, :, 0], SE)"
   ]
  },
  {
   "cell_type": "markdown",
   "id": "tXJdQPzG75md",
   "metadata": {
    "id": "tXJdQPzG75md"
   },
   "source": [
    "Define the dilation neural network containing one dilation layer."
   ]
  },
  {
   "cell_type": "code",
   "execution_count": null,
   "id": "58790185",
   "metadata": {
    "colab": {
     "base_uri": "https://localhost:8080/"
    },
    "id": "58790185",
    "outputId": "9675b369-56ee-408e-dba9-1818b3cbb96d"
   },
   "outputs": [],
   "source": [
    "inputIm = Input(shape=input_shape)\n",
    "xout = Dilation2D(\n",
    "    1, kernel_size=(2 * p + 1, 2 * p + 1), padding=\"same\", strides=(1, 1)\n",
    ")(inputIm)\n",
    "modelDilation = Model(inputIm, xout, name=\"dilationModel\")\n",
    "modelDilation.summary()"
   ]
  },
  {
   "cell_type": "markdown",
   "id": "CRWrrUSS8NUO",
   "metadata": {
    "id": "CRWrrUSS8NUO"
   },
   "source": [
    "Set optimization parameters."
   ]
  },
  {
   "cell_type": "code",
   "execution_count": null,
   "id": "2a63ced9",
   "metadata": {
    "id": "2a63ced9"
   },
   "outputs": [],
   "source": [
    "modelDilation.compile(\n",
    "    loss=tensorflow.keras.losses.mse,\n",
    "    optimizer=tensorflow.keras.optimizers.Adam(),\n",
    "    metrics=[\"mse\"],\n",
    ")"
   ]
  },
  {
   "cell_type": "code",
   "execution_count": null,
   "id": "5ccd0be8",
   "metadata": {
    "id": "5ccd0be8"
   },
   "outputs": [],
   "source": [
    "# filecsv='LearningCurvesMorphoModel_fashion.txt'\n",
    "# cb=CSVLogger(filecsv,append=False)\n",
    "earlyStop = EarlyStopping(\n",
    "    monitor=\"val_loss\",\n",
    "    min_delta=0.00001,\n",
    "    patience=20,\n",
    "    verbose=0,\n",
    "    mode=\"auto\",\n",
    "    baseline=None,\n",
    "    restore_best_weights=True,\n",
    ")"
   ]
  },
  {
   "cell_type": "markdown",
   "id": "4RsGIe068SfF",
   "metadata": {
    "id": "4RsGIe068SfF"
   },
   "source": [
    "Start training!"
   ]
  },
  {
   "cell_type": "code",
   "execution_count": null,
   "id": "fb5db0c4",
   "metadata": {
    "colab": {
     "base_uri": "https://localhost:8080/"
    },
    "id": "fb5db0c4",
    "outputId": "946fa35a-522e-45f5-f128-95d027be6d86"
   },
   "outputs": [],
   "source": [
    "modelDilation.fit(\n",
    "    Xtrain,\n",
    "    Ytrain,\n",
    "    batch_size=10,\n",
    "    epochs=500,\n",
    "    verbose=1,\n",
    "    validation_data=(Xtest, Ytest),\n",
    "    callbacks=[earlyStop],\n",
    ")"
   ]
  },
  {
   "cell_type": "markdown",
   "id": "4R1CFpHp8Z_c",
   "metadata": {
    "id": "4R1CFpHp8Z_c"
   },
   "source": [
    "Monitor the weights of the dilation layer (that is, the learned structuring element)."
   ]
  },
  {
   "cell_type": "code",
   "execution_count": null,
   "id": "937180dc",
   "metadata": {
    "colab": {
     "base_uri": "https://localhost:8080/"
    },
    "id": "937180dc",
    "outputId": "46e99b2c-9342-405f-f21b-1462fbb85455"
   },
   "outputs": [],
   "source": [
    "W = modelDilation.get_weights()[0]  # Get the weights of the only layer in modelMorpho\n",
    "print(W.shape)\n",
    "print(W[:, :, 0, 0])"
   ]
  },
  {
   "cell_type": "code",
   "execution_count": null,
   "id": "43f2850c",
   "metadata": {
    "colab": {
     "base_uri": "https://localhost:8080/",
     "height": 367
    },
    "id": "43f2850c",
    "outputId": "6affd270-e32d-4c87-e67c-9331346533f2"
   },
   "outputs": [],
   "source": [
    "plt.figure(figsize=(12, 6))\n",
    "plt.subplot(1, 2, 1)\n",
    "plt.imshow(W[:, :, 0, 0], cmap=\"gray\", vmax=0, vmin=-1)\n",
    "plt.title(\"Estimated SE\", fontsize=20)\n",
    "plt.colorbar()\n",
    "plt.subplot(1, 2, 2)\n",
    "plt.imshow(SE, cmap=\"gray\", vmax=0, vmin=-1)\n",
    "plt.title(\"Original SE\", fontsize=20)\n",
    "plt.colorbar()\n",
    "plt.show()"
   ]
  },
  {
   "cell_type": "markdown",
   "id": "71ceaebe",
   "metadata": {
    "id": "71ceaebe"
   },
   "source": [
    "## Learning an opening structuring element by error minization by gradient descent"
   ]
  },
  {
   "cell_type": "markdown",
   "id": "xWWsc5R78ujW",
   "metadata": {
    "id": "xWWsc5R78ujW"
   },
   "source": [
    "The functions ErodMinPlus and OpenMaxPlus are analogous to DilMaxPlus: the do the reshaping and apply the proper max/min-plus operators."
   ]
  },
  {
   "cell_type": "code",
   "execution_count": null,
   "id": "39bb82c1",
   "metadata": {
    "id": "39bb82c1"
   },
   "outputs": [],
   "source": [
    "def ErodMinPlus(im_input, SE):\n",
    "    M = im_input.shape[0]\n",
    "    N = im_input.shape[1]\n",
    "    p = int((SE.shape[0] - 1) / 2)\n",
    "    SECol = np.reshape(SE, ((2 * p + 1) ** 2, 1))\n",
    "    imBlock = block_reshape(im_input, p)\n",
    "    resColumn = erod_min_plus(imBlock, -SECol)\n",
    "    im_res = np.reshape(np.transpose(resColumn), (M, N), \"F\")\n",
    "    return im_res"
   ]
  },
  {
   "cell_type": "code",
   "execution_count": null,
   "id": "01706bf0",
   "metadata": {
    "id": "01706bf0"
   },
   "outputs": [],
   "source": [
    "def OpenMaxPlus(im_input, SE):\n",
    "    imEro = ErodMinPlus(im_input, SE)\n",
    "    im_res = DilMaxPlus(imEro, SE)\n",
    "    return im_res"
   ]
  },
  {
   "cell_type": "markdown",
   "id": "eAZFlOHz9BZm",
   "metadata": {
    "id": "eAZFlOHz9BZm"
   },
   "source": [
    "Show chosen structring element (try symmetric and non symmetric SEs)."
   ]
  },
  {
   "cell_type": "code",
   "execution_count": null,
   "id": "26265cd5",
   "metadata": {
    "colab": {
     "base_uri": "https://localhost:8080/",
     "height": 258
    },
    "id": "26265cd5",
    "outputId": "b24100a4-9d9e-4c0a-dd40-4930f8e1a7e5"
   },
   "outputs": [],
   "source": [
    "p = 1\n",
    "SE_id = \"half_cross\"  #'diag2' #'diag1' #'x-shaped' # cross #'half_cross' #'quad'\n",
    "SE = mkSE(p, SE_id) / 255\n",
    "plt.figure()\n",
    "plt.imshow(SE, cmap=\"gray\", vmax=0, vmin=-1)\n",
    "plt.colorbar()\n",
    "plt.axis(\"off\")\n",
    "plt.show()"
   ]
  },
  {
   "cell_type": "markdown",
   "id": "RcR6QX_l9Gmf",
   "metadata": {
    "id": "RcR6QX_l9Gmf"
   },
   "source": [
    "Show examples of opening."
   ]
  },
  {
   "cell_type": "code",
   "execution_count": null,
   "id": "61cedce9",
   "metadata": {
    "colab": {
     "base_uri": "https://localhost:8080/",
     "height": 347
    },
    "id": "61cedce9",
    "outputId": "6ff6dfad-1006-4d81-9f7f-b24204e63639"
   },
   "outputs": [],
   "source": [
    "print(\"Examples from the training set:\")\n",
    "nsamp = 10\n",
    "plt.figure(figsize=(30, 5))\n",
    "ridxs = []\n",
    "for i in range(nsamp):\n",
    "    plt.subplot(1, nsamp, i + 1)\n",
    "    randidx = np.random.randint(x_train.shape[0])\n",
    "    ridxs.append(randidx)\n",
    "    plt.imshow(x_train[randidx, :, :, 0], vmin=0, vmax=1, cmap=\"gray\")\n",
    "    plt.axis(\"off\")\n",
    "plt.show()\n",
    "plt.figure(figsize=(30, 5))\n",
    "for i in range(nsamp):\n",
    "    plt.subplot(1, nsamp, i + 1)\n",
    "    imopen = OpenMaxPlus(x_train[ridxs[i], :, :, 0], SE)\n",
    "    plt.imshow(imopen, vmin=0, vmax=1, cmap=\"gray\")\n",
    "    plt.axis(\"off\")\n",
    "plt.show()"
   ]
  },
  {
   "cell_type": "markdown",
   "id": "0WLQRHDX96fT",
   "metadata": {
    "id": "0WLQRHDX96fT"
   },
   "source": [
    "Split into train and test sets."
   ]
  },
  {
   "cell_type": "code",
   "execution_count": null,
   "id": "19556a31",
   "metadata": {
    "id": "19556a31"
   },
   "outputs": [],
   "source": [
    "ntrain = 500  # 150\n",
    "randidxs = np.random.randint(x_train.shape[0], size=(ntrain,))\n",
    "Xtrain = x_train[randidxs, :, :, :]\n",
    "ntest = 100  # 50\n",
    "randidxs = np.random.randint(x_test.shape[0], size=(ntest,))\n",
    "Xtest = x_test[randidxs, :, :, :]"
   ]
  },
  {
   "cell_type": "markdown",
   "id": "SCGLo0m-9_Y5",
   "metadata": {
    "id": "SCGLo0m-9_Y5"
   },
   "source": [
    "Ground truth labelling."
   ]
  },
  {
   "cell_type": "code",
   "execution_count": null,
   "id": "e61824ca",
   "metadata": {
    "id": "e61824ca"
   },
   "outputs": [],
   "source": [
    "Ytrain = np.zeros(Xtrain.shape)\n",
    "for i in range(ntrain):\n",
    "    Ytrain[i, :, :, 0] = OpenMaxPlus(Xtrain[i, :, :, 0], SE)\n",
    "Ytest = np.zeros(Xtest.shape)\n",
    "for i in range(ntest):\n",
    "    Ytest[i, :, :, 0] = OpenMaxPlus(Xtest[i, :, :, 0], SE)"
   ]
  },
  {
   "cell_type": "markdown",
   "id": "-EOG6P_j-IN1",
   "metadata": {
    "id": "-EOG6P_j-IN1"
   },
   "source": [
    "Define a \"one layer opening\" architecture."
   ]
  },
  {
   "cell_type": "code",
   "execution_count": null,
   "id": "5c9e510d",
   "metadata": {
    "colab": {
     "base_uri": "https://localhost:8080/"
    },
    "id": "5c9e510d",
    "outputId": "ab53789f-ea61-4876-b995-8609b47359a2"
   },
   "outputs": [],
   "source": [
    "inputIm = Input(shape=input_shape)\n",
    "xout = Opening2D(\n",
    "    1,\n",
    "    kernel_size=(2 * p + 1, 2 * p + 1),\n",
    "    padding=\"same\",\n",
    "    strides=(1, 1),\n",
    "    kernel_constraint=NonPositiveExtensive(),\n",
    ")(inputIm)\n",
    "modelOpen = Model(inputIm, xout, name=\"openingWrapped\")\n",
    "modelOpen.summary()"
   ]
  },
  {
   "cell_type": "code",
   "execution_count": null,
   "id": "6d5c0f5b",
   "metadata": {
    "id": "6d5c0f5b"
   },
   "outputs": [],
   "source": [
    "modelOpen.compile(\n",
    "    loss=tensorflow.keras.losses.mse,\n",
    "    optimizer=tensorflow.keras.optimizers.Adam(learning_rate=0.0001),\n",
    "    metrics=[\"mse\"],\n",
    ")"
   ]
  },
  {
   "cell_type": "code",
   "execution_count": null,
   "id": "e5023472",
   "metadata": {
    "id": "e5023472"
   },
   "outputs": [],
   "source": [
    "earlyStop = EarlyStopping(\n",
    "    monitor=\"val_loss\",\n",
    "    min_delta=0.00001,\n",
    "    patience=200,\n",
    "    verbose=0,\n",
    "    mode=\"auto\",\n",
    "    baseline=None,\n",
    "    restore_best_weights=True,\n",
    ")"
   ]
  },
  {
   "cell_type": "markdown",
   "id": "YHhwHbej-Nyy",
   "metadata": {
    "id": "YHhwHbej-Nyy"
   },
   "source": [
    "Start training!"
   ]
  },
  {
   "cell_type": "code",
   "execution_count": null,
   "id": "3e214b76",
   "metadata": {
    "colab": {
     "base_uri": "https://localhost:8080/"
    },
    "id": "3e214b76",
    "outputId": "9f5cfda5-fc44-4af4-a73f-4b97ae11bb79"
   },
   "outputs": [],
   "source": [
    "modelOpen.fit(\n",
    "    Xtrain,\n",
    "    Ytrain,\n",
    "    batch_size=10,\n",
    "    epochs=1500,\n",
    "    verbose=1,\n",
    "    validation_data=(Xtest, Ytest),\n",
    "    callbacks=[earlyStop],\n",
    ")"
   ]
  },
  {
   "cell_type": "markdown",
   "id": "cuCfa-EK-Sue",
   "metadata": {
    "id": "cuCfa-EK-Sue"
   },
   "source": [
    "Monitor the learned weights (the structuring element)."
   ]
  },
  {
   "cell_type": "code",
   "execution_count": null,
   "id": "3cfccb82",
   "metadata": {
    "colab": {
     "base_uri": "https://localhost:8080/"
    },
    "id": "3cfccb82",
    "outputId": "307a4a76-8695-425b-cba6-19949e88766e"
   },
   "outputs": [],
   "source": [
    "W = modelOpen.get_weights()[0]  # Get the weights of the only layer in modelMorpho\n",
    "print(W.shape)\n",
    "print(W[:, :, 0, 0])"
   ]
  },
  {
   "cell_type": "code",
   "execution_count": null,
   "id": "20798bd3",
   "metadata": {
    "colab": {
     "base_uri": "https://localhost:8080/",
     "height": 367
    },
    "id": "20798bd3",
    "outputId": "6e5bb9f3-33aa-4992-eefa-e72a937ab86a"
   },
   "outputs": [],
   "source": [
    "plt.figure(figsize=(12, 6))\n",
    "plt.subplot(1, 2, 1)\n",
    "plt.imshow(W[:, :, 0, 0], cmap=\"gray\", vmax=0, vmin=-1)\n",
    "plt.title(\"Estimated SE\", fontsize=20)\n",
    "plt.colorbar()\n",
    "plt.subplot(1, 2, 2)\n",
    "plt.imshow(SE, cmap=\"gray\", vmax=0, vmin=-1)\n",
    "plt.title(\"Original SE\", fontsize=20)\n",
    "plt.colorbar()\n",
    "plt.show()"
   ]
  },
  {
   "cell_type": "markdown",
   "id": "PlFzWUAo-eYg",
   "metadata": {
    "id": "PlFzWUAo-eYg"
   },
   "source": [
    "Now define a \"two layers\" opening architecture."
   ]
  },
  {
   "cell_type": "code",
   "execution_count": null,
   "id": "31bd7346",
   "metadata": {
    "colab": {
     "base_uri": "https://localhost:8080/"
    },
    "id": "31bd7346",
    "outputId": "dba86898-8bce-477d-cdf4-8d67add705bb"
   },
   "outputs": [],
   "source": [
    "inputIm = Input(shape=input_shape)\n",
    "xero = Erosion2D(\n",
    "    1,\n",
    "    kernel_size=(2 * p + 1, 2 * p + 1),\n",
    "    padding=\"same\",\n",
    "    strides=(1, 1),\n",
    "    kernel_constraint=NonPositiveExtensive(),\n",
    "    name=\"myErosion\",\n",
    ")(inputIm)\n",
    "xout = Dilation2D(\n",
    "    1,\n",
    "    kernel_size=(2 * p + 1, 2 * p + 1),\n",
    "    padding=\"same\",\n",
    "    strides=(1, 1),\n",
    "    kernel_constraint=NonPositiveExtensive(),\n",
    "    name=\"myDilation\",\n",
    ")(xero)\n",
    "modelOpen2 = Model(inputIm, xout, name=\"OpeningSequential\")\n",
    "modelOpen2.summary()"
   ]
  },
  {
   "cell_type": "code",
   "execution_count": null,
   "id": "488e90f1",
   "metadata": {
    "id": "488e90f1"
   },
   "outputs": [],
   "source": [
    "modelOpen2.compile(\n",
    "    loss=tensorflow.keras.losses.mse,\n",
    "    optimizer=tensorflow.keras.optimizers.Adam(learning_rate=0.0001),\n",
    "    metrics=[\"mse\"],\n",
    ")"
   ]
  },
  {
   "cell_type": "code",
   "execution_count": null,
   "id": "ed003ef0",
   "metadata": {
    "id": "ed003ef0"
   },
   "outputs": [],
   "source": [
    "earlyStop = EarlyStopping(\n",
    "    monitor=\"val_loss\",\n",
    "    min_delta=0.00001,\n",
    "    patience=100,\n",
    "    verbose=0,\n",
    "    mode=\"auto\",\n",
    "    baseline=None,\n",
    "    restore_best_weights=True,\n",
    ")"
   ]
  },
  {
   "cell_type": "code",
   "execution_count": null,
   "id": "baf730f0",
   "metadata": {
    "colab": {
     "base_uri": "https://localhost:8080/"
    },
    "id": "baf730f0",
    "outputId": "ba669d49-1997-4148-9ddb-eabf26671161"
   },
   "outputs": [],
   "source": [
    "modelOpen2.fit(\n",
    "    Xtrain,\n",
    "    Ytrain,\n",
    "    batch_size=10,\n",
    "    epochs=1500,\n",
    "    verbose=1,\n",
    "    validation_data=(Xtest, Ytest),\n",
    "    callbacks=[earlyStop],\n",
    ")"
   ]
  },
  {
   "cell_type": "markdown",
   "id": "YIkG0Nva-nva",
   "metadata": {
    "id": "YIkG0Nva-nva"
   },
   "source": [
    "Monitor the weights of each layer."
   ]
  },
  {
   "cell_type": "code",
   "execution_count": null,
   "id": "a4bea307",
   "metadata": {
    "colab": {
     "base_uri": "https://localhost:8080/"
    },
    "id": "a4bea307",
    "outputId": "d02beefd-1d89-48c0-cca3-2b409c51e200"
   },
   "outputs": [],
   "source": [
    "L1 = modelOpen2.get_layer(\"myErosion\")\n",
    "L2 = modelOpen2.get_layer(\"myDilation\")\n",
    "W1 = L1.get_weights()[0]\n",
    "W2 = L2.get_weights()[0]\n",
    "print(W1.shape)\n",
    "print(W2.shape)"
   ]
  },
  {
   "cell_type": "code",
   "execution_count": null,
   "id": "be0fbe43",
   "metadata": {
    "colab": {
     "base_uri": "https://localhost:8080/",
     "height": 367
    },
    "id": "be0fbe43",
    "outputId": "c1001680-9f06-41da-b1cd-5272920b49b1"
   },
   "outputs": [],
   "source": [
    "plt.figure(figsize=(12, 6))\n",
    "plt.subplot(1, 3, 1)\n",
    "plt.imshow(W1[:, :, 0, 0], cmap=\"gray\", vmax=0, vmin=-1)\n",
    "plt.title(\"Estimated SE (erosion layer)\", fontsize=15)\n",
    "plt.colorbar()\n",
    "plt.subplot(1, 3, 2)\n",
    "plt.imshow(W2[:, :, 0, 0], cmap=\"gray\", vmax=0, vmin=-1)\n",
    "plt.title(\"Estimated SE (dilation layer)\", fontsize=15)\n",
    "plt.colorbar()\n",
    "plt.subplot(1, 3, 3)\n",
    "plt.imshow(SE, cmap=\"gray\", vmax=0, vmin=-1)\n",
    "plt.title(\"Original SE\", fontsize=15)\n",
    "plt.colorbar()\n",
    "plt.show()"
   ]
  },
  {
   "cell_type": "code",
   "execution_count": null,
   "id": "500f046e",
   "metadata": {
    "id": "500f046e"
   },
   "outputs": [],
   "source": []
  }
 ],
 "metadata": {
  "accelerator": "GPU",
  "colab": {
   "collapsed_sections": [
    "da8634f7"
   ],
   "provenance": []
  },
  "kernelspec": {
   "display_name": "Python 3 (ipykernel)",
   "language": "python",
   "name": "python3"
  },
  "language_info": {
   "codemirror_mode": {
    "name": "ipython",
    "version": 3
   },
   "file_extension": ".py",
   "mimetype": "text/x-python",
   "name": "python",
   "nbconvert_exporter": "python",
   "pygments_lexer": "ipython3",
   "version": "3.12.7"
  }
 },
 "nbformat": 4,
 "nbformat_minor": 5
}
