{
 "cells": [
  {
   "cell_type": "code",
   "execution_count": null,
   "id": "msPg9-Sx_li6",
   "metadata": {
    "colab": {
     "base_uri": "https://localhost:8080/"
    },
    "id": "msPg9-Sx_li6",
    "outputId": "ec6a6c54-d100-42a8-ee77-fd7f7f4d1aa0"
   },
   "outputs": [],
   "source": [
    "!git clone https://github.com/Jacobiano/morpholayers.git"
   ]
  },
  {
   "cell_type": "code",
   "execution_count": null,
   "id": "sJToF6Ut_bb0",
   "metadata": {
    "colab": {
     "base_uri": "https://localhost:8080/"
    },
    "id": "sJToF6Ut_bb0",
    "outputId": "e051659b-cf88-4767-de7c-0cc3a09bbe50"
   },
   "outputs": [],
   "source": [
    "!wget -cO - \"https://drive.google.com/uc?export=download&id=1pOYd-CQABj6vOkb76CImXGOJ6AGJqii9\" > additiveShiftTutorialData.tar.gz\n",
    "!tar -xzf additiveShiftTutorialData.tar.gz"
   ]
  },
  {
   "cell_type": "code",
   "execution_count": null,
   "id": "DeVUnRCq_3T5",
   "metadata": {
    "colab": {
     "base_uri": "https://localhost:8080/"
    },
    "id": "DeVUnRCq_3T5",
    "outputId": "fb489853-45df-4423-866e-363c0740cb0c"
   },
   "outputs": [],
   "source": [
    "!ls"
   ]
  },
  {
   "cell_type": "code",
   "execution_count": null,
   "id": "zG13Uzjh6B0k",
   "metadata": {
    "colab": {
     "base_uri": "https://localhost:8080/"
    },
    "id": "zG13Uzjh6B0k",
    "outputId": "7feb9502-899c-462f-b890-63a8fa5cd9a0"
   },
   "outputs": [],
   "source": [
    "!pip install scikit-image==0.18"
   ]
  },
  {
   "cell_type": "code",
   "execution_count": null,
   "id": "di7I4IKC9O4a",
   "metadata": {
    "id": "di7I4IKC9O4a"
   },
   "outputs": [],
   "source": []
  },
  {
   "cell_type": "code",
   "execution_count": null,
   "id": "EIb16KTySYF9",
   "metadata": {
    "id": "EIb16KTySYF9"
   },
   "outputs": [],
   "source": [
    "import skimage"
   ]
  },
  {
   "cell_type": "code",
   "execution_count": null,
   "id": "6XAW2mB36VJH",
   "metadata": {
    "colab": {
     "base_uri": "https://localhost:8080/",
     "height": 35
    },
    "id": "6XAW2mB36VJH",
    "outputId": "2d1de121-f1ff-4837-b971-9065bb5df00e"
   },
   "outputs": [],
   "source": [
    "skimage.__version__"
   ]
  },
  {
   "cell_type": "code",
   "execution_count": null,
   "id": "0a46f302-7903-4920-9839-c8ebed490f7e",
   "metadata": {
    "id": "0a46f302-7903-4920-9839-c8ebed490f7e"
   },
   "outputs": [],
   "source": [
    "import tensorflow as tf\n",
    "import numpy as np\n",
    "\n",
    "from morpholayers.layers import (\n",
    "    Dilation2D,\n",
    "    TopHatOpening2D,\n",
    "    TopHatClosing2D,\n",
    "    Gradient2D,\n",
    ")\n",
    "\n",
    "from tensorflow.keras import layers"
   ]
  },
  {
   "cell_type": "code",
   "execution_count": null,
   "id": "Wd-HZ1u_9Qpe",
   "metadata": {
    "colab": {
     "base_uri": "https://localhost:8080/",
     "height": 35
    },
    "id": "Wd-HZ1u_9Qpe",
    "outputId": "063ef672-2ed4-4dc3-8b81-1f0cabf22e6a"
   },
   "outputs": [],
   "source": [
    "tf.__version__"
   ]
  },
  {
   "cell_type": "code",
   "execution_count": null,
   "id": "eb4d9230-fb01-4d07-ab98-c236caffecea",
   "metadata": {
    "colab": {
     "base_uri": "https://localhost:8080/",
     "height": 34
    },
    "id": "eb4d9230-fb01-4d07-ab98-c236caffecea",
    "outputId": "baf96546-7628-4acb-cca8-cc9768047d88"
   },
   "outputs": [],
   "source": [
    "import matplotlib.pyplot as plt\n",
    "\n",
    "plt.gray()"
   ]
  },
  {
   "cell_type": "code",
   "execution_count": null,
   "id": "41e54d2b-c026-422a-994a-0882f412e55a",
   "metadata": {
    "id": "41e54d2b-c026-422a-994a-0882f412e55a"
   },
   "outputs": [],
   "source": [
    "from skimage import data\n",
    "from skimage.color import rgb2gray"
   ]
  },
  {
   "cell_type": "code",
   "execution_count": null,
   "id": "OBRGLz-R5XsF",
   "metadata": {
    "id": "OBRGLz-R5XsF"
   },
   "outputs": [],
   "source": [
    "im = rgb2gray(data.cat())"
   ]
  },
  {
   "cell_type": "code",
   "execution_count": null,
   "id": "94ca79e8-ac63-4df8-8272-02e9447fdc85",
   "metadata": {
    "colab": {
     "base_uri": "https://localhost:8080/",
     "height": 286
    },
    "id": "94ca79e8-ac63-4df8-8272-02e9447fdc85",
    "outputId": "39950427-7d4c-477d-ab7f-f8f97d291991"
   },
   "outputs": [],
   "source": [
    "plt.imshow(im, vmin=0.0, vmax=1.0)"
   ]
  },
  {
   "cell_type": "code",
   "execution_count": null,
   "id": "2e1cb5ff-8430-4e51-b474-7f999cb0f4ea",
   "metadata": {
    "id": "2e1cb5ff-8430-4e51-b474-7f999cb0f4ea"
   },
   "outputs": [],
   "source": [
    "im_shifted = im + 0.3"
   ]
  },
  {
   "cell_type": "code",
   "execution_count": null,
   "id": "6c921341-8391-42a6-b746-ebfb27a71c5f",
   "metadata": {
    "colab": {
     "base_uri": "https://localhost:8080/",
     "height": 286
    },
    "id": "6c921341-8391-42a6-b746-ebfb27a71c5f",
    "outputId": "bbcb81e1-d95f-4e08-d8fd-4da444a0420d"
   },
   "outputs": [],
   "source": [
    "plt.imshow(im_shifted, vmin=0.0, vmax=1.0)"
   ]
  },
  {
   "cell_type": "code",
   "execution_count": null,
   "id": "1f0a33f3-dda4-431d-8a36-fe285a8fa1c9",
   "metadata": {
    "id": "1f0a33f3-dda4-431d-8a36-fe285a8fa1c9"
   },
   "outputs": [],
   "source": [
    "# reshape to the format (B, H, W, C)\n",
    "im = im[np.newaxis, ..., np.newaxis]\n",
    "im_shifted = im_shifted[np.newaxis, ..., np.newaxis]"
   ]
  },
  {
   "cell_type": "code",
   "execution_count": null,
   "id": "2a09beab-b733-42be-b4f9-1e7ec7def49a",
   "metadata": {
    "id": "2a09beab-b733-42be-b4f9-1e7ec7def49a"
   },
   "outputs": [],
   "source": [
    "# create a model consisting of the difference of a dilation and the input\n",
    "inputs = layers.Input((None, None, 1))\n",
    "x = Dilation2D(1, (11, 11))(inputs)\n",
    "out = layers.Subtract()([x, inputs])\n",
    "model = tf.keras.models.Model(inputs, out)"
   ]
  },
  {
   "cell_type": "code",
   "execution_count": null,
   "id": "d347d1c6-f19b-4740-a563-2b58a54b6670",
   "metadata": {
    "colab": {
     "base_uri": "https://localhost:8080/",
     "height": 286
    },
    "id": "d347d1c6-f19b-4740-a563-2b58a54b6670",
    "outputId": "a3a3e64e-daa2-442c-b667-59cf97157eca"
   },
   "outputs": [],
   "source": [
    "# compute the operator on the input image\n",
    "im_out = model(im)[0, :, :, 0]\n",
    "\n",
    "plt.imshow(im_out)"
   ]
  },
  {
   "cell_type": "code",
   "execution_count": null,
   "id": "9e97e1c1-ff2d-469a-bc8b-6a4d95c3abd5",
   "metadata": {
    "colab": {
     "base_uri": "https://localhost:8080/",
     "height": 286
    },
    "id": "9e97e1c1-ff2d-469a-bc8b-6a4d95c3abd5",
    "outputId": "224ca883-3494-4c94-ee9b-bec1ccc30abd"
   },
   "outputs": [],
   "source": [
    "# shift the image by some amount and then compute the operator on the new image\n",
    "im_out2 = model(im_shifted)[0, :, :, 0]\n",
    "plt.imshow(im_out2)"
   ]
  },
  {
   "cell_type": "code",
   "execution_count": null,
   "id": "eb7f1a63-bc28-46d9-9f7a-1d8330d1964b",
   "metadata": {
    "colab": {
     "base_uri": "https://localhost:8080/"
    },
    "id": "eb7f1a63-bc28-46d9-9f7a-1d8330d1964b",
    "outputId": "f08bbd02-2e81-4538-93aa-29cd5765f09c"
   },
   "outputs": [],
   "source": [
    "# compute the maximum difference between the two images\n",
    "dist = float(tf.reduce_max(tf.abs(im_out - im_out2)))\n",
    "print(dist)"
   ]
  },
  {
   "cell_type": "code",
   "execution_count": null,
   "id": "5e3ad617-bd15-43f3-8134-f3a270bcdd00",
   "metadata": {
    "id": "5e3ad617-bd15-43f3-8134-f3a270bcdd00"
   },
   "outputs": [],
   "source": [
    "# create a top-hat operator:\n",
    "# Image - Opening\n",
    "inputs = layers.Input((None, None, 1))\n",
    "out = TopHatOpening2D(1, (15, 15))(inputs)\n",
    "model = tf.keras.models.Model(inputs, out)"
   ]
  },
  {
   "cell_type": "code",
   "execution_count": null,
   "id": "bd41a808-6efb-486e-8d88-4ba687156856",
   "metadata": {
    "colab": {
     "base_uri": "https://localhost:8080/",
     "height": 286
    },
    "id": "bd41a808-6efb-486e-8d88-4ba687156856",
    "outputId": "2c599b01-2a5c-4cf2-8b30-1b91a32cd86c"
   },
   "outputs": [],
   "source": [
    "# compute the operator on the input image\n",
    "im_out = model(im)[0, :, :, 0]\n",
    "\n",
    "plt.imshow(im_out)"
   ]
  },
  {
   "cell_type": "code",
   "execution_count": null,
   "id": "db733209-7b55-4d70-b51f-a0d81cb39c2b",
   "metadata": {
    "colab": {
     "base_uri": "https://localhost:8080/",
     "height": 286
    },
    "id": "db733209-7b55-4d70-b51f-a0d81cb39c2b",
    "outputId": "6225b650-58c6-4569-a21c-48e333189d45"
   },
   "outputs": [],
   "source": [
    "# shift the image by some amount and then compute the operator on the new image\n",
    "im_out2 = model(im_shifted)[0, :, :, 0]\n",
    "\n",
    "plt.imshow(im_out2)"
   ]
  },
  {
   "cell_type": "code",
   "execution_count": null,
   "id": "72f76e61-c192-4eeb-b004-a138e4feba18",
   "metadata": {
    "colab": {
     "base_uri": "https://localhost:8080/"
    },
    "id": "72f76e61-c192-4eeb-b004-a138e4feba18",
    "outputId": "d0ba200f-f9ce-4d62-ebf5-c1bcabe81942"
   },
   "outputs": [],
   "source": [
    "# compute the maximum difference between the two images\n",
    "dist = float(tf.reduce_max(tf.abs(im_out - im_out2)))\n",
    "print(dist)"
   ]
  },
  {
   "cell_type": "code",
   "execution_count": null,
   "id": "5a7cabbc-ea6b-429f-bc47-df941cda4bd3",
   "metadata": {
    "colab": {
     "base_uri": "https://localhost:8080/"
    },
    "id": "5a7cabbc-ea6b-429f-bc47-df941cda4bd3",
    "outputId": "95fdefe0-6731-4e30-b6a9-c0051889da21"
   },
   "outputs": [],
   "source": [
    "(x_train, y_train), (x_test, y_test) = tf.keras.datasets.fashion_mnist.load_data()"
   ]
  },
  {
   "cell_type": "code",
   "execution_count": null,
   "id": "3aa3ff5b-28b9-4f79-9a43-42f1921bf4ab",
   "metadata": {
    "id": "3aa3ff5b-28b9-4f79-9a43-42f1921bf4ab"
   },
   "outputs": [],
   "source": [
    "x_train = x_train.astype(np.float32) / 255\n",
    "x_test = x_test.astype(np.float32) / 255"
   ]
  },
  {
   "cell_type": "code",
   "execution_count": null,
   "id": "5fc9805d-21ba-4ef7-8867-07f3fa4e1095",
   "metadata": {
    "colab": {
     "base_uri": "https://localhost:8080/",
     "height": 778
    },
    "id": "5fc9805d-21ba-4ef7-8867-07f3fa4e1095",
    "outputId": "e0470c05-c364-473c-fda4-a745331083a3"
   },
   "outputs": [],
   "source": [
    "plt.figure()\n",
    "plt.imshow(x_train[0, ...])\n",
    "plt.figure()\n",
    "plt.imshow(x_train[123, ...])\n",
    "plt.figure()\n",
    "plt.imshow(x_train[1234, ...])"
   ]
  },
  {
   "cell_type": "code",
   "execution_count": null,
   "id": "0e6f4fbf-746e-44fd-80cd-817a4eb742fd",
   "metadata": {
    "colab": {
     "base_uri": "https://localhost:8080/"
    },
    "id": "0e6f4fbf-746e-44fd-80cd-817a4eb742fd",
    "outputId": "38c01942-e8bf-492c-c262-5ef82678e3c1"
   },
   "outputs": [],
   "source": [
    "# define a model where the first layer is additive shift-invariant\n",
    "# the model itself will be invariant to additive shift\n",
    "inputs = layers.Input((28, 28, 1))\n",
    "tho = TopHatOpening2D(2, (5, 5))(inputs)\n",
    "thc = TopHatClosing2D(2, (5, 5))(inputs)\n",
    "grad = Gradient2D(2, (5, 5))(inputs)\n",
    "\n",
    "x0 = layers.Concatenate(-1)([tho, thc, grad])\n",
    "\n",
    "x = layers.Conv2D(16, (3, 3), padding=\"same\")(x0)\n",
    "x = layers.BatchNormalization()(x)\n",
    "x = layers.Activation(\"relu\")(x)\n",
    "x = layers.MaxPool2D()(x)\n",
    "x = layers.Conv2D(32, (3, 3), padding=\"same\")(x)\n",
    "x = layers.BatchNormalization()(x)\n",
    "x = layers.Activation(\"relu\")(x)\n",
    "\n",
    "x = layers.GlobalMaxPooling2D()(x)\n",
    "x = layers.Dense(10, activation=\"softmax\")(x)\n",
    "\n",
    "model_invariant = tf.keras.models.Model(inputs, x)\n",
    "model_invariant.summary()"
   ]
  },
  {
   "cell_type": "code",
   "execution_count": null,
   "id": "078e2647-0c38-40bb-902b-e6b8a6294c82",
   "metadata": {
    "id": "078e2647-0c38-40bb-902b-e6b8a6294c82"
   },
   "outputs": [],
   "source": [
    "model_invariant.compile(\n",
    "    loss=tf.keras.losses.SparseCategoricalCrossentropy(),\n",
    "    optimizer=tf.keras.optimizers.Adam(1e-2),\n",
    "    metrics=[\"accuracy\"],\n",
    ")"
   ]
  },
  {
   "cell_type": "code",
   "execution_count": null,
   "id": "bbd21497-d3ed-4ea2-8640-6ef90f3318d9",
   "metadata": {
    "colab": {
     "base_uri": "https://localhost:8080/"
    },
    "id": "bbd21497-d3ed-4ea2-8640-6ef90f3318d9",
    "outputId": "b79fb609-214b-46db-ab23-f2a8bc4b8920"
   },
   "outputs": [],
   "source": [
    "model_invariant = tf.keras.models.load_model(\"additiveShiftTutorial_invariantModel\")"
   ]
  },
  {
   "cell_type": "code",
   "execution_count": null,
   "id": "7cfe2d31-950f-4930-b45a-41f8ea177f86",
   "metadata": {
    "id": "7cfe2d31-950f-4930-b45a-41f8ea177f86"
   },
   "outputs": [],
   "source": [
    "# model_invariant.fit(x_train, y_train, batch_size=64, epochs=10, validation_data=(x_test, y_test))"
   ]
  },
  {
   "cell_type": "code",
   "execution_count": null,
   "id": "60a92cf6-5faf-4a55-9c49-7fb3d55a6c38",
   "metadata": {
    "colab": {
     "base_uri": "https://localhost:8080/"
    },
    "id": "60a92cf6-5faf-4a55-9c49-7fb3d55a6c38",
    "outputId": "acd40ffa-5796-408e-e220-93f43194f836"
   },
   "outputs": [],
   "source": [
    "# create a non-invariant model to use as a baseline\n",
    "inputs = layers.Input((28, 28, 1))\n",
    "\n",
    "\n",
    "x0 = layers.Conv2D(6, (5, 5), padding=\"same\")(inputs)\n",
    "\n",
    "x = layers.Conv2D(16, (3, 3), padding=\"same\")(x0)\n",
    "x = layers.BatchNormalization()(x)\n",
    "x = layers.Activation(\"relu\")(x)\n",
    "x = layers.MaxPool2D()(x)\n",
    "x = layers.Conv2D(32, (3, 3), padding=\"same\")(x)\n",
    "x = layers.BatchNormalization()(x)\n",
    "x = layers.Activation(\"relu\")(x)\n",
    "\n",
    "x = layers.GlobalMaxPooling2D()(x)\n",
    "x = layers.Dense(10, activation=\"softmax\")(x)\n",
    "\n",
    "model_noninvariant = tf.keras.models.Model(inputs, x)\n",
    "model_noninvariant.summary()\n",
    "model_noninvariant.compile(\n",
    "    loss=tf.keras.losses.SparseCategoricalCrossentropy(),\n",
    "    optimizer=tf.keras.optimizers.Adam(1e-2),\n",
    "    metrics=[\"accuracy\"],\n",
    ")"
   ]
  },
  {
   "cell_type": "code",
   "execution_count": null,
   "id": "84cb1b0a-4727-468f-830c-efa5911c8203",
   "metadata": {
    "id": "84cb1b0a-4727-468f-830c-efa5911c8203"
   },
   "outputs": [],
   "source": [
    "# model_noninvariant.fit(x_train, y_train, batch_size=64, epochs=10, validation_data=(x_test, y_test))"
   ]
  },
  {
   "cell_type": "code",
   "execution_count": null,
   "id": "7ff929c1-bf8a-49a4-b3ad-ed084065f5c8",
   "metadata": {
    "colab": {
     "base_uri": "https://localhost:8080/"
    },
    "id": "7ff929c1-bf8a-49a4-b3ad-ed084065f5c8",
    "outputId": "df1d108d-401d-4433-8be8-9a09aeadb192"
   },
   "outputs": [],
   "source": [
    "model_noninvariant = tf.keras.models.load_model(\"additiveShiftTutorial_baselineModel\")"
   ]
  },
  {
   "cell_type": "code",
   "execution_count": null,
   "id": "5a8e0ef5-cb91-4967-93ba-998c99f05433",
   "metadata": {
    "id": "5a8e0ef5-cb91-4967-93ba-998c99f05433"
   },
   "outputs": [],
   "source": [
    "# model_invariant.save('additiveShiftTutorial_invariantModel')\n",
    "# model_noninvariant.save('additiveShiftTutorial_baselineModel')"
   ]
  },
  {
   "cell_type": "code",
   "execution_count": null,
   "id": "4496b09c-37a4-4fd1-bebc-27cca12f9ea1",
   "metadata": {
    "colab": {
     "base_uri": "https://localhost:8080/"
    },
    "id": "4496b09c-37a4-4fd1-bebc-27cca12f9ea1",
    "outputId": "0bb97123-fe07-4138-a803-1a7fa6a7e28c"
   },
   "outputs": [],
   "source": [
    "print(\"evaluating the non additive shift invariant model\")\n",
    "model_noninvariant.evaluate(x_test, y_test)"
   ]
  },
  {
   "cell_type": "code",
   "execution_count": null,
   "id": "e348200f-8dad-4c4f-bda8-405fc4209ac1",
   "metadata": {
    "colab": {
     "base_uri": "https://localhost:8080/"
    },
    "id": "e348200f-8dad-4c4f-bda8-405fc4209ac1",
    "outputId": "7d8b62d1-94ba-4f39-bd0a-d12226946891"
   },
   "outputs": [],
   "source": [
    "print(\"evaluating the additive shift invariant model\")\n",
    "model_invariant.evaluate(x_test, y_test)"
   ]
  },
  {
   "cell_type": "code",
   "execution_count": null,
   "id": "0c62d10e-2039-4267-a196-5a0cb272b476",
   "metadata": {
    "id": "0c62d10e-2039-4267-a196-5a0cb272b476"
   },
   "outputs": [],
   "source": [
    "# create a new dataset by randomly shifting the Fashion MNIST test images\n",
    "x_test2 = x_test + np.random.uniform(-1.0, 1.0, [x_test.shape[0], 1, 1])"
   ]
  },
  {
   "cell_type": "code",
   "execution_count": null,
   "id": "99da5015-d588-4364-8050-f4c88afeeff3",
   "metadata": {
    "colab": {
     "base_uri": "https://localhost:8080/",
     "height": 624
    },
    "id": "99da5015-d588-4364-8050-f4c88afeeff3",
    "outputId": "7c7b3064-becc-4f29-a3de-fd858a2bed86"
   },
   "outputs": [],
   "source": [
    "# show some examples of images from the new dataset\n",
    "plt.figure(figsize=(10, 10))\n",
    "plt.subplot(321)\n",
    "plt.imshow(x_test[0, ...], vmin=0.0, vmax=1.0)\n",
    "plt.title(\"Original Image\")\n",
    "plt.subplot(322)\n",
    "plt.imshow(x_test2[0, ...], vmin=0, vmax=1.0)\n",
    "plt.title(\"Shifted Image\")\n",
    "plt.subplot(323)\n",
    "plt.imshow(x_test[1, ...], vmin=0.0, vmax=1.0)\n",
    "plt.title(\"Original Image\")\n",
    "plt.subplot(324)\n",
    "plt.imshow(x_test2[1, ...], vmin=0, vmax=1.0)\n",
    "plt.title(\"Shifted Image\")\n",
    "plt.subplot(325)\n",
    "plt.imshow(x_test[2, ...], vmin=0.0, vmax=1.0)\n",
    "plt.title(\"Original Image\")\n",
    "plt.subplot(326)\n",
    "plt.imshow(x_test2[2, ...], vmin=0, vmax=1.0)\n",
    "plt.title(\"Shifted Image\")"
   ]
  },
  {
   "cell_type": "code",
   "execution_count": null,
   "id": "94a4099c-983b-41f6-b4ca-ff0aa1a81b3d",
   "metadata": {
    "id": "94a4099c-983b-41f6-b4ca-ff0aa1a81b3d"
   },
   "outputs": [],
   "source": []
  },
  {
   "cell_type": "code",
   "execution_count": null,
   "id": "ec31a447-8305-46dd-9236-df5b91edd39a",
   "metadata": {
    "colab": {
     "base_uri": "https://localhost:8080/"
    },
    "id": "ec31a447-8305-46dd-9236-df5b91edd39a",
    "outputId": "74e6ab3a-a139-42fa-cdf9-cd026681a424"
   },
   "outputs": [],
   "source": [
    "# evaluate the non-invariant model on the new dataset\n",
    "print(\"evaluating the non additive shift invariant model in the shifted test set\")\n",
    "model_noninvariant.evaluate(x_test2, y_test)"
   ]
  },
  {
   "cell_type": "code",
   "execution_count": null,
   "id": "b7ddbbdf-3d05-427a-a1d0-7c0712ed2ca6",
   "metadata": {
    "colab": {
     "base_uri": "https://localhost:8080/"
    },
    "id": "b7ddbbdf-3d05-427a-a1d0-7c0712ed2ca6",
    "outputId": "fe742e80-b05c-4401-e365-5f1b745fc8f4"
   },
   "outputs": [],
   "source": [
    "# evaluate the invariant model in the new dataset\n",
    "print(\"evaluating the additive shift invariant model in the shifted test set\")\n",
    "model_invariant.evaluate(x_test2, y_test)"
   ]
  },
  {
   "cell_type": "code",
   "execution_count": null,
   "id": "d78ee91c-4705-450f-ac91-dda0789f1712",
   "metadata": {
    "colab": {
     "base_uri": "https://localhost:8080/",
     "height": 233
    },
    "id": "d78ee91c-4705-450f-ac91-dda0789f1712",
    "outputId": "b69caaa7-3a79-41fe-a097-a3db2354bf2c"
   },
   "outputs": [],
   "source": [
    "w1 = model_invariant.layers[1].weights[0]\n",
    "plt.figure()\n",
    "plt.subplot(121)\n",
    "plt.imshow(w1[:, :, 0, 0])\n",
    "plt.title(\"Closing top hat weights\")\n",
    "plt.subplot(122)\n",
    "plt.imshow(w1[:, :, 0, 1])"
   ]
  },
  {
   "cell_type": "code",
   "execution_count": null,
   "id": "s46p_jhP4Ear",
   "metadata": {
    "colab": {
     "base_uri": "https://localhost:8080/",
     "height": 233
    },
    "id": "s46p_jhP4Ear",
    "outputId": "dc05de83-1d73-4a61-e0f9-53040e2fbf09"
   },
   "outputs": [],
   "source": [
    "w2 = model_invariant.layers[2].weights[0]\n",
    "plt.figure()\n",
    "plt.subplot(121)\n",
    "plt.imshow(w2[:, :, 0, 0])\n",
    "plt.title(\"Closing top hat weights\")\n",
    "plt.subplot(122)\n",
    "plt.imshow(w2[:, :, 0, 1])"
   ]
  },
  {
   "cell_type": "code",
   "execution_count": null,
   "id": "bijQdiIM4FkM",
   "metadata": {
    "colab": {
     "base_uri": "https://localhost:8080/",
     "height": 233
    },
    "id": "bijQdiIM4FkM",
    "outputId": "cfb065ed-070f-46d5-daa1-52ac7f5b9716"
   },
   "outputs": [],
   "source": [
    "w3 = model_invariant.layers[3].weights[0]\n",
    "plt.figure()\n",
    "plt.subplot(121)\n",
    "plt.imshow(w3[:, :, 0, 0])\n",
    "plt.title(\"Gradient weights\")\n",
    "plt.subplot(122)\n",
    "plt.imshow(w3[:, :, 0, 1])"
   ]
  },
  {
   "cell_type": "code",
   "execution_count": null,
   "id": "Dp48IMfc-lTW",
   "metadata": {
    "id": "Dp48IMfc-lTW"
   },
   "outputs": [],
   "source": [
    "import tensorflow.keras.backend as K\n",
    "\n",
    "operators = K.function(\n",
    "    [model_invariant.layers[0].input], [model_invariant.layers[4].output]\n",
    ")"
   ]
  },
  {
   "cell_type": "code",
   "execution_count": null,
   "id": "uv2lZ2RE4vJf",
   "metadata": {
    "id": "uv2lZ2RE4vJf"
   },
   "outputs": [],
   "source": [
    "out_test = np.array(operators(x_test[:2, ...]))"
   ]
  },
  {
   "cell_type": "code",
   "execution_count": null,
   "id": "BzrpLZLhHuI8",
   "metadata": {
    "colab": {
     "base_uri": "https://localhost:8080/"
    },
    "id": "BzrpLZLhHuI8",
    "outputId": "bf292005-a00c-48d9-efe2-cf50eeb38002"
   },
   "outputs": [],
   "source": [
    "out_test.shape"
   ]
  },
  {
   "cell_type": "code",
   "execution_count": null,
   "id": "wG1Iif5p_hiu",
   "metadata": {
    "colab": {
     "base_uri": "https://localhost:8080/",
     "height": 1000
    },
    "id": "wG1Iif5p_hiu",
    "outputId": "c318a6a1-fa42-4b2a-c11e-f9d59a48233d"
   },
   "outputs": [],
   "source": [
    "for i in range(out_test.shape[3]):\n",
    "    plt.figure()\n",
    "    plt.imshow(out_test[0, 0, :, :, i])"
   ]
  },
  {
   "cell_type": "code",
   "execution_count": null,
   "id": "EZD25mo6Hpry",
   "metadata": {
    "id": "EZD25mo6Hpry"
   },
   "outputs": [],
   "source": []
  }
 ],
 "metadata": {
  "accelerator": "GPU",
  "colab": {
   "provenance": []
  },
  "kernelspec": {
   "display_name": "Python 3 (ipykernel)",
   "language": "python",
   "name": "python3"
  },
  "language_info": {
   "codemirror_mode": {
    "name": "ipython",
    "version": 3
   },
   "file_extension": ".py",
   "mimetype": "text/x-python",
   "name": "python",
   "nbconvert_exporter": "python",
   "pygments_lexer": "ipython3",
   "version": "3.12.7"
  }
 },
 "nbformat": 4,
 "nbformat_minor": 5
}
