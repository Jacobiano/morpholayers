{
 "cells": [
  {
   "cell_type": "code",
   "execution_count": null,
   "metadata": {
    "colab": {
     "base_uri": "https://localhost:8080/",
     "height": 68
    },
    "id": "AU1Xlv8lcj1w",
    "outputId": "4ca65bae-8b52-425c-8879-f863468a621e"
   },
   "outputs": [],
   "source": [
    "import tensorflow as tf\n",
    "import numpy as np\n",
    "import matplotlib.pyplot as plt\n",
    "\n",
    "plt.gray()\n",
    "\n",
    "print(\"TensorFlow version:\", tf.__version__)\n",
    "print(\"Numpy version:\", np.__version__)"
   ]
  },
  {
   "cell_type": "code",
   "execution_count": null,
   "metadata": {
    "colab": {
     "base_uri": "https://localhost:8080/"
    },
    "id": "ps0tIDzpczku",
    "outputId": "e32ba53d-ab47-4036-f58d-9cff2cc8c17a"
   },
   "outputs": [],
   "source": [
    "from tensorflow.keras.datasets import fashion_mnist\n",
    "\n",
    "(x_train, y_train), (x_test, y_test) = fashion_mnist.load_data()"
   ]
  },
  {
   "cell_type": "code",
   "execution_count": null,
   "metadata": {
    "colab": {
     "base_uri": "https://localhost:8080/"
    },
    "id": "IipTlVmSc9pq",
    "outputId": "71e3333c-b3de-482c-d721-d7fa68ea95c6"
   },
   "outputs": [],
   "source": [
    "print(\"Number of samples and shapes!\", x_train.shape)\n",
    "print(\"Classes\", np.unique(y_train))"
   ]
  },
  {
   "cell_type": "code",
   "execution_count": null,
   "metadata": {
    "colab": {
     "base_uri": "https://localhost:8080/"
    },
    "id": "CV6THRDec6Tu",
    "outputId": "9ee916d3-6b73-4559-c37a-f46abc00a4be"
   },
   "outputs": [],
   "source": [
    "# Model / data parameters\n",
    "num_classes = 10\n",
    "input_shape = (28, 28, 1)\n",
    "use_samples = 5000  # We will use only some samples for the training,\n",
    "\n",
    "# the data, split between train and test sets\n",
    "x_train = x_train[0:use_samples]\n",
    "y_train = y_train[0:use_samples]\n",
    "\n",
    "# Scale images to the [0, 1] range\n",
    "x_train = x_train.astype(\"float32\") / 255\n",
    "x_test = x_test.astype(\"float32\") / 255\n",
    "\n",
    "# Make sure images have shape (28, 28, 1)\n",
    "x_train = np.expand_dims(x_train, -1)\n",
    "x_test = np.expand_dims(x_test, -1)\n",
    "print(\"x_train shape:\", x_train.shape)\n",
    "print(x_train.shape[0], \"train samples\")\n",
    "print(x_test.shape[0], \"test samples\")\n",
    "\n",
    "# convert class vectors to binary class matrices\n",
    "y_train = tf.keras.utils.to_categorical(y_train, num_classes)\n",
    "y_test = tf.keras.utils.to_categorical(y_test, num_classes)"
   ]
  },
  {
   "cell_type": "code",
   "execution_count": null,
   "metadata": {
    "colab": {
     "base_uri": "https://localhost:8080/",
     "height": 934
    },
    "id": "s3SwhBy8dZ4N",
    "outputId": "74a37c11-8b3c-494d-f685-9cbca63e03b8"
   },
   "outputs": [],
   "source": [
    "# Define the text labels\n",
    "fashion_mnist_labels = [\n",
    "    \"T-shirt/top\",  # index 0\n",
    "    \"Trouser\",  # index 1\n",
    "    \"Pullover\",  # index 2\n",
    "    \"Dress\",  # index 3\n",
    "    \"Coat\",  # index 4\n",
    "    \"Sandal\",  # index 5\n",
    "    \"Shirt\",  # index 6\n",
    "    \"Sneaker\",  # index 7\n",
    "    \"Bag\",  # index 8\n",
    "    \"Ankle boot\",\n",
    "]  # index 9\n",
    "\n",
    "plt.figure(figsize=(16, 16))\n",
    "for i in range(25):\n",
    "    # Image index, you can pick any number between 0 and 59,999\n",
    "    img_index = i + 1\n",
    "    # y_train contains the lables, ranging from 0 to 9\n",
    "    label_index = np.argmax(y_train, axis=1)[img_index]\n",
    "    plt.subplot(5, 5, i + 1)\n",
    "    plt.imshow(x_train[img_index, :, :, 0])\n",
    "    plt.title((fashion_mnist_labels[label_index]))"
   ]
  },
  {
   "cell_type": "code",
   "execution_count": null,
   "metadata": {
    "id": "2H7JW_kieCm_"
   },
   "outputs": [],
   "source": [
    "from tensorflow.keras.models import Model\n",
    "from tensorflow.keras.layers import Input, Flatten, Dense\n",
    "from tensorflow.keras.constraints import NonNeg"
   ]
  },
  {
   "cell_type": "code",
   "execution_count": null,
   "metadata": {
    "id": "G3uIqJO_depD"
   },
   "outputs": [],
   "source": [
    "xin = Input(shape=input_shape)\n",
    "x = Flatten()(xin)\n",
    "xact = Dense(10, kernel_constraint=NonNeg(), activation=\"relu\")(x)\n",
    "xoutput = Dense(num_classes, activation=\"softmax\")(xact)\n",
    "model = Model(xin, outputs=xoutput)"
   ]
  },
  {
   "cell_type": "code",
   "execution_count": null,
   "metadata": {
    "colab": {
     "base_uri": "https://localhost:8080/"
    },
    "id": "wtUHdQCWeT1x",
    "outputId": "d6adf2f5-4e8b-4045-de92-dcfaf33014ab"
   },
   "outputs": [],
   "source": [
    "model.summary()"
   ]
  },
  {
   "cell_type": "code",
   "execution_count": null,
   "metadata": {
    "id": "Yfhv4WESeWeV"
   },
   "outputs": [],
   "source": [
    "model.compile(\n",
    "    loss=\"categorical_crossentropy\",\n",
    "    optimizer=tf.keras.optimizers.Adam(),\n",
    "    metrics=[\"accuracy\"],\n",
    ")"
   ]
  },
  {
   "cell_type": "markdown",
   "metadata": {
    "id": "rKlqrHQahBCt"
   },
   "source": [
    "ADAM optimizer: https://arxiv.org/abs/1412.6980\n",
    "\n",
    "Cross Entropy: https://en.wikipedia.org/wiki/Cross_entropy"
   ]
  },
  {
   "cell_type": "code",
   "execution_count": null,
   "metadata": {
    "colab": {
     "base_uri": "https://localhost:8080/"
    },
    "id": "MZ_S5qlkehss",
    "outputId": "dd414561-103d-43cc-c37f-967c8cb79f15"
   },
   "outputs": [],
   "source": [
    "history = model.fit(\n",
    "    x_train, y_train, batch_size=24, epochs=20, validation_data=(x_test, y_test)\n",
    ")"
   ]
  },
  {
   "cell_type": "code",
   "execution_count": null,
   "metadata": {
    "colab": {
     "base_uri": "https://localhost:8080/",
     "height": 573
    },
    "id": "3lI8TvEvhX7I",
    "outputId": "0fa33ac7-3f60-4043-cddc-e6f939a4e0b0"
   },
   "outputs": [],
   "source": [
    "plt.title(\"Fashion Mnist with a training set of size\" + str(use_samples))\n",
    "plt.plot(history.history[\"loss\"], label=\"Training Loss\")\n",
    "plt.plot(history.history[\"val_loss\"], label=\"Validation Loss\")\n",
    "plt.xlabel(\"Epochs\")\n",
    "plt.ylabel(\"Loss\")\n",
    "plt.grid()\n",
    "plt.show()\n",
    "\n",
    "plt.title(\"Fashion Mnist with a training set of size\" + str(use_samples))\n",
    "plt.plot(history.history[\"accuracy\"], label=\"Training Accuracy\")\n",
    "plt.plot(history.history[\"val_accuracy\"], label=\"Validation Accuracy\")\n",
    "plt.xlabel(\"Epochs\")\n",
    "plt.ylabel(\"Loss\")\n",
    "plt.grid()\n",
    "plt.show()"
   ]
  },
  {
   "cell_type": "code",
   "execution_count": null,
   "metadata": {
    "colab": {
     "base_uri": "https://localhost:8080/"
    },
    "id": "eQ6BIE1_esBO",
    "outputId": "c9d771ca-9df9-4e09-990b-d2ef94f9bf5b"
   },
   "outputs": [],
   "source": [
    "model.layers"
   ]
  },
  {
   "cell_type": "code",
   "execution_count": null,
   "metadata": {
    "colab": {
     "base_uri": "https://localhost:8080/"
    },
    "id": "mDokBWNnfDHR",
    "outputId": "33049c3d-9b68-4c79-88d7-f8a5667bb99d"
   },
   "outputs": [],
   "source": [
    "model.layers[2].get_weights()[0].shape"
   ]
  },
  {
   "cell_type": "code",
   "execution_count": null,
   "metadata": {
    "colab": {
     "base_uri": "https://localhost:8080/",
     "height": 957
    },
    "id": "JYKVll84fJb0",
    "outputId": "04801026-beb1-40d3-b836-e5b28bb2a1af"
   },
   "outputs": [],
   "source": [
    "plt.figure(figsize=(18, 18))\n",
    "for i in range(10):\n",
    "    plt.subplot(3, 4, i + 1)\n",
    "    plt.imshow(np.reshape(model.layers[2].get_weights()[0][:, i], [28, 28]))\n",
    "plt.show()"
   ]
  },
  {
   "cell_type": "code",
   "execution_count": null,
   "metadata": {
    "id": "AJ676UfPfsXN"
   },
   "outputs": [],
   "source": [
    "y_pred = model.predict(x_test[0:1, :])"
   ]
  },
  {
   "cell_type": "code",
   "execution_count": null,
   "metadata": {
    "colab": {
     "base_uri": "https://localhost:8080/",
     "height": 683
    },
    "id": "zF_hOeUGfy1N",
    "outputId": "8d65fe26-fd7d-46c4-d21d-2318190ed822"
   },
   "outputs": [],
   "source": [
    "plt.imshow(x_test[0, :, :, 0])\n",
    "plt.show()\n",
    "plt.plot(y_pred.T, \".\")\n",
    "for i in np.argsort(-y_pred)[0]:\n",
    "    print(\"Class:\", (fashion_mnist_labels[i]), \"Probability:\", y_pred[0][i])"
   ]
  },
  {
   "cell_type": "code",
   "execution_count": null,
   "metadata": {
    "id": "ggQPpeE-i_5r"
   },
   "outputs": [],
   "source": []
  }
 ],
 "metadata": {
  "colab": {
   "provenance": []
  },
  "kernelspec": {
   "display_name": "Python 3 (ipykernel)",
   "language": "python",
   "name": "python3"
  },
  "language_info": {
   "codemirror_mode": {
    "name": "ipython",
    "version": 3
   },
   "file_extension": ".py",
   "mimetype": "text/x-python",
   "name": "python",
   "nbconvert_exporter": "python",
   "pygments_lexer": "ipython3",
   "version": "3.12.7"
  }
 },
 "nbformat": 4,
 "nbformat_minor": 4
}
