{
 "cells": [
  {
   "cell_type": "code",
   "execution_count": null,
   "metadata": {
    "colab": {
     "base_uri": "https://localhost:8080/"
    },
    "id": "v4k727ZVnODT",
    "outputId": "2e985a2a-e787-4f2d-83ab-efd0e074f15c"
   },
   "outputs": [],
   "source": [
    "!git clone https://github.com/Jacobiano/morpholayers.git"
   ]
  },
  {
   "cell_type": "code",
   "execution_count": null,
   "metadata": {
    "colab": {
     "base_uri": "https://localhost:8080/",
     "height": 85
    },
    "id": "NOOCphCYnSZ0",
    "outputId": "60006ba7-577a-4a64-858b-777743c782d6"
   },
   "outputs": [],
   "source": [
    "import tensorflow\n",
    "import numpy as np\n",
    "import matplotlib.pyplot as plt\n",
    "\n",
    "plt.gray()\n",
    "plt.rc(\"font\", family=\"serif\")\n",
    "plt.rc(\"xtick\", labelsize=\"x-small\")\n",
    "plt.rc(\"ytick\", labelsize=\"x-small\")\n",
    "\n",
    "import skimage\n",
    "\n",
    "print(\"TensorFlow version:\", tensorflow.__version__)\n",
    "print(\"Numpy version:\", np.__version__)\n",
    "print(\"Skimage version:\", skimage.__version__)"
   ]
  },
  {
   "cell_type": "code",
   "execution_count": null,
   "metadata": {
    "id": "YftTJrKPndm_"
   },
   "outputs": [],
   "source": [
    "from tensorflow.keras.models import Model\n",
    "from tensorflow.keras.layers import (\n",
    "    Input,\n",
    "    MaxPooling2D,\n",
    "    Conv2D,\n",
    "    Flatten,\n",
    "    Dropout,\n",
    "    Dense,\n",
    ")\n",
    "from matplotlib import pyplot as plt\n",
    "import numpy as np\n",
    "from morpholayers.layers import (\n",
    "    DepthwiseDilation2D,\n",
    ")"
   ]
  },
  {
   "cell_type": "code",
   "execution_count": null,
   "metadata": {
    "colab": {
     "base_uri": "https://localhost:8080/"
    },
    "id": "MpSQ8mfznimG",
    "outputId": "0e5833f9-6f21-4e4b-851e-7fd5c2e2e4a4"
   },
   "outputs": [],
   "source": [
    "from tensorflow.keras.datasets import fashion_mnist\n",
    "\n",
    "(x_train, y_train), (x_test, y_test) = fashion_mnist.load_data()\n",
    "print(x_train.shape)"
   ]
  },
  {
   "cell_type": "code",
   "execution_count": null,
   "metadata": {
    "colab": {
     "base_uri": "https://localhost:8080/"
    },
    "id": "Se5GwW2cnquX",
    "outputId": "048fa5a5-25a7-45c3-8696-a12f77b70fe0"
   },
   "outputs": [],
   "source": [
    "# Model / data parameters\n",
    "num_classes = 10\n",
    "input_shape = (28, 28, 1)\n",
    "use_samples = 5000\n",
    "\n",
    "# the data, split between train and test sets\n",
    "x_train = x_train[0:use_samples]\n",
    "y_train = y_train[0:use_samples]\n",
    "\n",
    "# Scale images to the [0, 1] range\n",
    "x_train = x_train.astype(\"float32\") / 255\n",
    "x_test = x_test.astype(\"float32\") / 255\n",
    "# Make sure images have shape (28, 28, 1)\n",
    "x_train = np.expand_dims(x_train, -1)\n",
    "x_test = np.expand_dims(x_test, -1)\n",
    "print(\"x_train shape:\", x_train.shape)\n",
    "print(x_train.shape[0], \"train samples\")\n",
    "print(x_test.shape[0], \"test samples\")\n",
    "\n",
    "\n",
    "# convert class vectors to binary class matrices\n",
    "y_train = tensorflow.keras.utils.to_categorical(y_train, num_classes)\n",
    "y_test = tensorflow.keras.utils.to_categorical(y_test, num_classes)"
   ]
  },
  {
   "cell_type": "code",
   "execution_count": null,
   "metadata": {
    "colab": {
     "base_uri": "https://localhost:8080/",
     "height": 932
    },
    "id": "WrsZ5B16TxoY",
    "outputId": "faf9784c-31d6-4e48-80c1-4f69d6cee962"
   },
   "outputs": [],
   "source": [
    "# Define the text labels\n",
    "fashion_mnist_labels = [\n",
    "    \"T-shirt/top\",  # index 0\n",
    "    \"Trouser\",  # index 1\n",
    "    \"Pullover\",  # index 2\n",
    "    \"Dress\",  # index 3\n",
    "    \"Coat\",  # index 4\n",
    "    \"Sandal\",  # index 5\n",
    "    \"Shirt\",  # index 6\n",
    "    \"Sneaker\",  # index 7\n",
    "    \"Bag\",  # index 8\n",
    "    \"Ankle boot\",\n",
    "]  # index 9\n",
    "\n",
    "plt.figure(figsize=(16, 16))\n",
    "for i in range(25):\n",
    "    # Image index, you can pick any number between 0 and 59,999\n",
    "    img_index = i + 1\n",
    "    # y_train contains the lables, ranging from 0 to 9\n",
    "    label_index = np.argmax(y_train, axis=1)[img_index]\n",
    "    plt.subplot(5, 5, i + 1)\n",
    "    plt.imshow(x_train[img_index, :, :, 0])\n",
    "    plt.title((fashion_mnist_labels[label_index]))"
   ]
  },
  {
   "cell_type": "code",
   "execution_count": null,
   "metadata": {
    "id": "QQ932CVPonOH"
   },
   "outputs": [],
   "source": [
    "# import skimage.morphology as skm\n",
    "# cross=skm.disk(1)\n",
    "# ownSE=skm.disk(1)"
   ]
  },
  {
   "cell_type": "code",
   "execution_count": null,
   "metadata": {
    "id": "QKXnQP5loFo9"
   },
   "outputs": [],
   "source": [
    "xin = Input(shape=input_shape)\n",
    "x = Conv2D(25, padding=\"valid\", kernel_size=(3, 3), activation=\"relu\")(xin)\n",
    "x = MaxPooling2D(pool_size=(2, 2), padding=\"same\")(x)\n",
    "x = Conv2D(25, padding=\"valid\", kernel_size=(3, 3), activation=\"relu\")(x)\n",
    "x = MaxPooling2D(pool_size=(2, 2), padding=\"same\")(x)\n",
    "x = Flatten()(x)\n",
    "x = Dropout(0.5)(x)\n",
    "xoutput = Dense(num_classes, activation=\"softmax\")(x)\n",
    "model = Model(xin, outputs=xoutput)"
   ]
  },
  {
   "cell_type": "code",
   "execution_count": null,
   "metadata": {
    "colab": {
     "base_uri": "https://localhost:8080/",
     "height": 1000
    },
    "id": "aDxpaURTn9lo",
    "outputId": "9042bd75-adeb-48e6-9c3f-eed93f1c8df1"
   },
   "outputs": [],
   "source": [
    "tensorflow.keras.utils.plot_model(\n",
    "    model, to_file=\"model.png\", show_shapes=True, show_layer_names=False\n",
    ")\n",
    "plt.figure(figsize=(20, 15))\n",
    "plt.imshow(plt.imread(\"model.png\"))\n",
    "plt.axis(\"off\")\n",
    "plt.title(\"Architecture\")\n",
    "plt.show()\n",
    "print(\"Number of Parameters by Layer\")\n",
    "model.summary()"
   ]
  },
  {
   "cell_type": "code",
   "execution_count": null,
   "metadata": {
    "id": "JrbBFr8kpHar"
   },
   "outputs": [],
   "source": [
    "model.compile(\n",
    "    loss=\"categorical_crossentropy\",\n",
    "    optimizer=tensorflow.keras.optimizers.Adam(),\n",
    "    metrics=[\"accuracy\"],\n",
    ")"
   ]
  },
  {
   "cell_type": "code",
   "execution_count": null,
   "metadata": {
    "colab": {
     "base_uri": "https://localhost:8080/"
    },
    "id": "Opw1ucMMpPzw",
    "outputId": "9ca9bcb5-b104-4e88-c080-79208beb289a"
   },
   "outputs": [],
   "source": [
    "history = model.fit(\n",
    "    x_train, y_train, batch_size=24, epochs=10, validation_data=(x_test, y_test)\n",
    ")"
   ]
  },
  {
   "cell_type": "code",
   "execution_count": null,
   "metadata": {
    "colab": {
     "base_uri": "https://localhost:8080/"
    },
    "id": "N2wy2uXqpo5-",
    "outputId": "49eb72a1-0968-4f96-cfb9-eea143ce3fb0"
   },
   "outputs": [],
   "source": [
    "model.layers"
   ]
  },
  {
   "cell_type": "code",
   "execution_count": null,
   "metadata": {
    "colab": {
     "base_uri": "https://localhost:8080/"
    },
    "id": "whuc9xETpta_",
    "outputId": "4336dcbb-c7d0-41a2-fd90-a2737a7b1b87"
   },
   "outputs": [],
   "source": [
    "model.layers[1].weights[0].shape"
   ]
  },
  {
   "cell_type": "code",
   "execution_count": null,
   "metadata": {
    "id": "RBsX5pw_lCHT"
   },
   "outputs": [],
   "source": [
    "xin = Input(shape=input_shape)\n",
    "x = Conv2D(25, padding=\"valid\", kernel_size=(3, 3), activation=\"relu\")(xin)\n",
    "x = DepthwiseDilation2D(kernel_size=(2, 2), strides=(2, 2), trainable=True)(x)\n",
    "x = Conv2D(25, padding=\"valid\", kernel_size=(3, 3), activation=\"relu\")(x)\n",
    "x = DepthwiseDilation2D(kernel_size=(2, 2), strides=(2, 2), trainable=True)(x)\n",
    "x = Flatten()(x)\n",
    "x = Dropout(0.5)(x)\n",
    "xoutput = Dense(num_classes, activation=\"softmax\")(x)\n",
    "modeltrainable = Model(xin, outputs=xoutput)"
   ]
  },
  {
   "cell_type": "code",
   "execution_count": null,
   "metadata": {
    "colab": {
     "base_uri": "https://localhost:8080/"
    },
    "id": "G5WI-0_on635",
    "outputId": "38c56ae2-2bb5-4abe-f34c-b7d18f89de3b"
   },
   "outputs": [],
   "source": [
    "modeltrainable.layers"
   ]
  },
  {
   "cell_type": "code",
   "execution_count": null,
   "metadata": {
    "colab": {
     "base_uri": "https://localhost:8080/",
     "height": 265
    },
    "id": "R3yK68I4oKHD",
    "outputId": "84016a6b-333c-44fb-c0ce-79d25e40b4c2"
   },
   "outputs": [],
   "source": [
    "print(\"Initialization as MaxPooling!\")\n",
    "for i in range(25):\n",
    "    plt.subplot(5, 5, i + 1)\n",
    "    plt.imshow(modeltrainable.layers[2].get_weights()[0][:, :, i, 0])\n",
    "    plt.axis(\"off\")"
   ]
  },
  {
   "cell_type": "markdown",
   "metadata": {
    "id": "ZJc_69R9oLvk"
   },
   "source": [
    "We copy the weights from convolutional and dense layers to the second model (modeltrainable)"
   ]
  },
  {
   "cell_type": "code",
   "execution_count": null,
   "metadata": {
    "id": "kA1OCBwXnvAa"
   },
   "outputs": [],
   "source": [
    "modeltrainable.layers[1].set_weights(model.layers[1].get_weights())\n",
    "modeltrainable.layers[3].set_weights(model.layers[3].get_weights())\n",
    "modeltrainable.layers[7].set_weights(model.layers[7].get_weights())"
   ]
  },
  {
   "cell_type": "markdown",
   "metadata": {
    "id": "Wl3izM20rAFH"
   },
   "source": [
    "If you only wish to train SE in the dilation, you should uncomment the following lines."
   ]
  },
  {
   "cell_type": "code",
   "execution_count": null,
   "metadata": {
    "id": "eh9k8dpSpToK"
   },
   "outputs": [],
   "source": [
    "# modeltrainable.layers[1].trainable=False\n",
    "# modeltrainable.layers[3].trainable=False\n",
    "# modeltrainable.layers[7].trainable=False"
   ]
  },
  {
   "cell_type": "code",
   "execution_count": null,
   "metadata": {
    "colab": {
     "base_uri": "https://localhost:8080/"
    },
    "id": "86qTVwNAlOEH",
    "outputId": "aabb27b3-d564-47d5-9739-0a1fb44c9860"
   },
   "outputs": [],
   "source": [
    "modeltrainable.compile(\n",
    "    loss=\"categorical_crossentropy\",\n",
    "    optimizer=tensorflow.keras.optimizers.Adam(),\n",
    "    metrics=[\"accuracy\"],\n",
    ")\n",
    "historytrainable = modeltrainable.fit(\n",
    "    x_train, y_train, batch_size=24, epochs=20, validation_data=(x_test, y_test)\n",
    ")"
   ]
  },
  {
   "cell_type": "code",
   "execution_count": null,
   "metadata": {
    "colab": {
     "base_uri": "https://localhost:8080/",
     "height": 248
    },
    "id": "It566rozofrY",
    "outputId": "f6a4a937-968b-4a8c-8a54-7947de14958a"
   },
   "outputs": [],
   "source": [
    "for i in range(25):\n",
    "    plt.subplot(5, 5, i + 1)\n",
    "    plt.imshow(modeltrainable.layers[2].get_weights()[0][:, :, i, 0])\n",
    "    plt.axis(\"off\")"
   ]
  }
 ],
 "metadata": {
  "colab": {
   "provenance": []
  },
  "kernelspec": {
   "display_name": "Python 3 (ipykernel)",
   "language": "python",
   "name": "python3"
  },
  "language_info": {
   "codemirror_mode": {
    "name": "ipython",
    "version": 3
   },
   "file_extension": ".py",
   "mimetype": "text/x-python",
   "name": "python",
   "nbconvert_exporter": "python",
   "pygments_lexer": "ipython3",
   "version": "3.12.7"
  }
 },
 "nbformat": 4,
 "nbformat_minor": 4
}
